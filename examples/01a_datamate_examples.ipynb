{
 "cells": [
  {
   "cell_type": "markdown",
   "metadata": {},
   "source": [
    "# `datamate` Examples"
   ]
  },
  {
   "cell_type": "markdown",
   "metadata": {},
   "source": [
    "Basic examples demonstrating `datamate` functionality.\n",
    "\n",
    "<div style=\"position: relative; display: inline-block;\">\n",
    "    <img src=\"https://upload.wikimedia.org/wikipedia/commons/thumb/8/8c/Brainbow_%28Smith_2007%29.jpg/715px-Brainbow_%28Smith_2007%29.jpg\" alt=\"Brainbow (Smith 2007)\" style=\"max-width: 100%; height: auto;\">\n",
    "    <div style=\"font-size: 12px; color: #555; margin-top: 5px;\">\n",
    "        Image: \"Mouse neurons labeled with fluorescent tags\" by Stephen J Smith (2007), licensed under \n",
    "        <a href=\"https://creativecommons.org/licenses/by/3.0/\" target=\"_blank\" style=\"color: #007BFF;\">CC BY 3.0</a>.\n",
    "    </div>\n",
    "</div>"
   ]
  },
  {
   "cell_type": "markdown",
   "metadata": {},
   "source": [
    "## Filesystem as memory"
   ]
  },
  {
   "cell_type": "code",
   "execution_count": null,
   "metadata": {
    "execution": {
     "iopub.execute_input": "2025-01-17T18:36:15.164883Z",
     "iopub.status.busy": "2025-01-17T18:36:15.164719Z",
     "iopub.status.idle": "2025-01-17T18:36:16.119295Z",
     "shell.execute_reply": "2025-01-17T18:36:16.118849Z"
    }
   },
   "outputs": [],
   "source": [
    "from pathlib import Path\n",
    "import numpy as np\n",
    "import matplotlib.pyplot as plt\n",
    "\n",
    "from datamate import Directory, set_root_dir\n",
    "\n",
    "%load_ext autoreload\n",
    "%autoreload 2"
   ]
  },
  {
   "cell_type": "code",
   "execution_count": null,
   "metadata": {
    "execution": {
     "iopub.execute_input": "2025-01-17T18:36:16.126262Z",
     "iopub.status.busy": "2025-01-17T18:36:16.125947Z",
     "iopub.status.idle": "2025-01-17T18:36:16.134633Z",
     "shell.execute_reply": "2025-01-17T18:36:16.134391Z"
    }
   },
   "outputs": [],
   "source": [
    "# we set the root directory\n",
    "root_dir = Path(\".\") / \"data\"\n",
    "set_root_dir(root_dir)"
   ]
  },
  {
   "cell_type": "code",
   "execution_count": null,
   "metadata": {
    "execution": {
     "iopub.execute_input": "2025-01-17T18:36:16.136017Z",
     "iopub.status.busy": "2025-01-17T18:36:16.135925Z",
     "iopub.status.idle": "2025-01-17T18:36:16.145703Z",
     "shell.execute_reply": "2025-01-17T18:36:16.145507Z"
    }
   },
   "outputs": [],
   "source": [
    "# we erase data from earlier execution of this notebook -- ignore this cell\n",
    "if root_dir.exists():\n",
    "    import shutil\n",
    "\n",
    "    shutil.rmtree(root_dir)"
   ]
  },
  {
   "cell_type": "code",
   "execution_count": null,
   "metadata": {
    "execution": {
     "iopub.execute_input": "2025-01-17T18:36:16.147100Z",
     "iopub.status.busy": "2025-01-17T18:36:16.146990Z",
     "iopub.status.idle": "2025-01-17T18:36:16.159355Z",
     "shell.execute_reply": "2025-01-17T18:36:16.159095Z"
    }
   },
   "outputs": [],
   "source": [
    "# we create a Directory instance\n",
    "cell_measurements = Directory()\n",
    "cell_measurements"
   ]
  },
  {
   "cell_type": "markdown",
   "metadata": {},
   "source": [
    "We 'measure' cell attributes: identity, x- and y-coordinates, and colors."
   ]
  },
  {
   "cell_type": "code",
   "execution_count": null,
   "metadata": {
    "execution": {
     "iopub.execute_input": "2025-01-17T18:36:16.186937Z",
     "iopub.status.busy": "2025-01-17T18:36:16.186817Z",
     "iopub.status.idle": "2025-01-17T18:36:16.208271Z",
     "shell.execute_reply": "2025-01-17T18:36:16.207639Z"
    }
   },
   "outputs": [],
   "source": [
    "# we store data by setting attributes\n",
    "n_cells = 100\n",
    "cell_measurements.cell_id = np.arange(n_cells)\n",
    "cell_measurements.x = np.random.normal(0, 1, size=n_cells)\n",
    "cell_measurements.y = np.random.normal(0, 1, size=n_cells)\n",
    "cell_measurements.colors = np.random.rand(n_cells, 3)"
   ]
  },
  {
   "cell_type": "code",
   "execution_count": null,
   "metadata": {
    "execution": {
     "iopub.execute_input": "2025-01-17T18:36:16.210710Z",
     "iopub.status.busy": "2025-01-17T18:36:16.210438Z",
     "iopub.status.idle": "2025-01-17T18:36:16.231479Z",
     "shell.execute_reply": "2025-01-17T18:36:16.231065Z"
    }
   },
   "outputs": [],
   "source": [
    "# we verify files with the tree-view method\n",
    "# (automatically called)\n",
    "cell_measurements"
   ]
  },
  {
   "cell_type": "code",
   "execution_count": null,
   "metadata": {
    "execution": {
     "iopub.execute_input": "2025-01-17T18:36:16.234642Z",
     "iopub.status.busy": "2025-01-17T18:36:16.234452Z",
     "iopub.status.idle": "2025-01-17T18:36:16.332016Z",
     "shell.execute_reply": "2025-01-17T18:36:16.331760Z"
    }
   },
   "outputs": [],
   "source": [
    "# we access data as attributes\n",
    "plt.scatter(cell_measurements.x, cell_measurements.y, c=cell_measurements.colors, s=10)\n",
    "plt.xlabel(\"cell location in x\")\n",
    "plt.ylabel(\"cell location in y\")\n",
    "plt.title(f\"Locations and colors of {n_cells} cells\")"
   ]
  },
  {
   "cell_type": "code",
   "execution_count": null,
   "metadata": {
    "execution": {
     "iopub.execute_input": "2025-01-17T18:36:16.333300Z",
     "iopub.status.busy": "2025-01-17T18:36:16.333207Z",
     "iopub.status.idle": "2025-01-17T18:36:16.397822Z",
     "shell.execute_reply": "2025-01-17T18:36:16.397404Z"
    }
   },
   "outputs": [],
   "source": [
    "# we index h5-arrays from disk without fully loading them to reduce memory load\n",
    "start_cell_id = 0\n",
    "end_cell_id = 50\n",
    "plt.scatter(\n",
    "    cell_measurements.x[start_cell_id:end_cell_id],\n",
    "    cell_measurements.y[start_cell_id:end_cell_id],\n",
    "    c=cell_measurements.colors[start_cell_id:end_cell_id],\n",
    "    s=10,\n",
    ")\n",
    "plt.xlabel(\"cell location in x\")\n",
    "plt.ylabel(\"cell location in y\")\n",
    "plt.title(f\"Locations and colors of {end_cell_id - start_cell_id} cells\")"
   ]
  },
  {
   "cell_type": "code",
   "execution_count": null,
   "metadata": {
    "execution": {
     "iopub.execute_input": "2025-01-17T18:36:16.399168Z",
     "iopub.status.busy": "2025-01-17T18:36:16.399081Z",
     "iopub.status.idle": "2025-01-17T18:36:16.411191Z",
     "shell.execute_reply": "2025-01-17T18:36:16.410980Z"
    }
   },
   "outputs": [],
   "source": [
    "# we use the directory name to point to the same directory again\n",
    "cell_measurements = Directory(\"Directory_0000\")\n",
    "\n",
    "# works also with specifying the root directory\n",
    "# cell_measurements = Directory(root_dir / \"Directory_0000\")\n",
    "\n",
    "cell_measurements"
   ]
  },
  {
   "cell_type": "markdown",
   "metadata": {},
   "source": [
    "## Hierarchical data organization"
   ]
  },
  {
   "cell_type": "code",
   "execution_count": null,
   "metadata": {
    "execution": {
     "iopub.execute_input": "2025-01-17T18:36:16.412429Z",
     "iopub.status.busy": "2025-01-17T18:36:16.412358Z",
     "iopub.status.idle": "2025-01-17T18:36:16.421512Z",
     "shell.execute_reply": "2025-01-17T18:36:16.421331Z"
    }
   },
   "outputs": [],
   "source": [
    "# we navigate upwards on the filesystem hierarchy\n",
    "cell_measurements.parent"
   ]
  },
  {
   "cell_type": "code",
   "execution_count": null,
   "metadata": {
    "execution": {
     "iopub.execute_input": "2025-01-17T18:36:16.422614Z",
     "iopub.status.busy": "2025-01-17T18:36:16.422556Z",
     "iopub.status.idle": "2025-01-17T18:36:16.430864Z",
     "shell.execute_reply": "2025-01-17T18:36:16.430686Z"
    }
   },
   "outputs": [],
   "source": [
    "# we navigate upwards twice\n",
    "cell_measurements.parent.parent"
   ]
  },
  {
   "cell_type": "code",
   "execution_count": null,
   "metadata": {
    "execution": {
     "iopub.execute_input": "2025-01-17T18:36:16.431923Z",
     "iopub.status.busy": "2025-01-17T18:36:16.431867Z",
     "iopub.status.idle": "2025-01-17T18:36:16.440240Z",
     "shell.execute_reply": "2025-01-17T18:36:16.440058Z"
    }
   },
   "outputs": [],
   "source": [
    "# we create a pointer to a child Directory\n",
    "# (as long as no file/attribute with this name already exists)\n",
    "cell_measurements.connections"
   ]
  },
  {
   "cell_type": "code",
   "execution_count": null,
   "metadata": {
    "execution": {
     "iopub.execute_input": "2025-01-17T18:36:16.441315Z",
     "iopub.status.busy": "2025-01-17T18:36:16.441258Z",
     "iopub.status.idle": "2025-01-17T18:36:16.514471Z",
     "shell.execute_reply": "2025-01-17T18:36:16.514250Z"
    }
   },
   "outputs": [],
   "source": [
    "# we `measure` a random connectivity matrix\n",
    "connectivity_matrix = np.random.randn(n_cells, n_cells) > 2\n",
    "plt.imshow(connectivity_matrix)\n",
    "plt.xlabel(\"postsynaptic cell id\")\n",
    "plt.ylabel(\"presynaptic cell id\")\n",
    "plt.title(\"connectivity matrix\")"
   ]
  },
  {
   "cell_type": "code",
   "execution_count": null,
   "metadata": {
    "execution": {
     "iopub.execute_input": "2025-01-17T18:36:16.515689Z",
     "iopub.status.busy": "2025-01-17T18:36:16.515621Z",
     "iopub.status.idle": "2025-01-17T18:36:16.527834Z",
     "shell.execute_reply": "2025-01-17T18:36:16.527604Z"
    }
   },
   "outputs": [],
   "source": [
    "# we store the connectivity as graph (i.e. edges) because its sparse\n",
    "post_cell_id, pre_cell_id = np.where(connectivity_matrix)\n",
    "cell_measurements.connections.pre_cell_id = pre_cell_id\n",
    "cell_measurements.connections.post_cell_id = post_cell_id"
   ]
  },
  {
   "cell_type": "code",
   "execution_count": null,
   "metadata": {
    "execution": {
     "iopub.execute_input": "2025-01-17T18:36:16.529248Z",
     "iopub.status.busy": "2025-01-17T18:36:16.529161Z",
     "iopub.status.idle": "2025-01-17T18:36:16.538205Z",
     "shell.execute_reply": "2025-01-17T18:36:16.538022Z"
    }
   },
   "outputs": [],
   "source": [
    "# the connections are now stored in our directory\n",
    "cell_measurements"
   ]
  },
  {
   "cell_type": "code",
   "execution_count": null,
   "metadata": {
    "execution": {
     "iopub.execute_input": "2025-01-17T18:36:16.539232Z",
     "iopub.status.busy": "2025-01-17T18:36:16.539174Z",
     "iopub.status.idle": "2025-01-17T18:36:16.547903Z",
     "shell.execute_reply": "2025-01-17T18:36:16.547723Z"
    }
   },
   "outputs": [],
   "source": [
    "# we access them later from the same directory\n",
    "cell_measurements.connections"
   ]
  },
  {
   "cell_type": "code",
   "execution_count": null,
   "metadata": {
    "execution": {
     "iopub.execute_input": "2025-01-17T18:36:16.548944Z",
     "iopub.status.busy": "2025-01-17T18:36:16.548890Z",
     "iopub.status.idle": "2025-01-17T18:36:16.556620Z",
     "shell.execute_reply": "2025-01-17T18:36:16.556430Z"
    }
   },
   "outputs": [],
   "source": [
    "# with attribute-style access to the h5-array\n",
    "cell_measurements.connections.pre_cell_id[:]"
   ]
  },
  {
   "cell_type": "code",
   "execution_count": null,
   "metadata": {
    "execution": {
     "iopub.execute_input": "2025-01-17T18:36:16.603231Z",
     "iopub.status.busy": "2025-01-17T18:36:16.601633Z",
     "iopub.status.idle": "2025-01-17T18:36:16.630752Z",
     "shell.execute_reply": "2025-01-17T18:36:16.630127Z"
    }
   },
   "outputs": [],
   "source": [
    "# or composing strings following the pathlib syntax for your preference\n",
    "(cell_measurements / \"connections/pre_cell_id\")[:]"
   ]
  },
  {
   "cell_type": "markdown",
   "metadata": {},
   "source": [
    "## Configuration-based compilation of data\n",
    "\n",
    "We wrap up the code above into a coherent object that can be configured and compiled to a `Directory`."
   ]
  },
  {
   "cell_type": "code",
   "execution_count": null,
   "metadata": {
    "execution": {
     "iopub.execute_input": "2025-01-17T18:36:16.633176Z",
     "iopub.status.busy": "2025-01-17T18:36:16.632851Z",
     "iopub.status.idle": "2025-01-17T18:36:16.652971Z",
     "shell.execute_reply": "2025-01-17T18:36:16.651726Z"
    }
   },
   "outputs": [],
   "source": [
    "from time import sleep\n",
    "from pathlib import Path\n",
    "import numpy as np\n",
    "import matplotlib.pyplot as plt\n",
    "\n",
    "from datamate import Directory, root\n",
    "\n",
    "data_dir = Path(\".\") / \"data\"\n",
    "\n",
    "\n",
    "@root(data_dir)  # this optional decorator defines the root directory\n",
    "class CellMeasurements(Directory):\n",
    "\n",
    "    def __init__(self, n_cells=100, seed=0):\n",
    "        print(\"Loading connectome ...\")\n",
    "        sleep(5)\n",
    "        np.random.seed(seed)\n",
    "\n",
    "        # store cell attributes\n",
    "        self.cell_id = np.arange(n_cells)\n",
    "        self.x = np.random.normal(0, 1, size=n_cells)\n",
    "        self.y = np.random.normal(0, 1, size=n_cells)\n",
    "        self.colors = np.random.rand(n_cells, 3)\n",
    "\n",
    "        # store connectivity attributes\n",
    "        connectivity_matrix = np.random.randn(n_cells, n_cells)\n",
    "        pre_cell_id, post_cell_id = np.where(connectivity_matrix > 2)\n",
    "        self.connections.pre_cell_id = pre_cell_id\n",
    "        self.connections.post_cell_id = post_cell_id\n",
    "        print(\"Stored connectome!\")"
   ]
  },
  {
   "cell_type": "code",
   "execution_count": null,
   "metadata": {
    "execution": {
     "iopub.execute_input": "2025-01-17T18:36:16.665550Z",
     "iopub.status.busy": "2025-01-17T18:36:16.665268Z",
     "iopub.status.idle": "2025-01-17T18:36:21.728063Z",
     "shell.execute_reply": "2025-01-17T18:36:21.727493Z"
    }
   },
   "outputs": [],
   "source": [
    "# we init 'CellMeasurements'\n",
    "# __init__ is only run if a directory of this type and config does not yet exist\n",
    "cell_measurements = CellMeasurements()"
   ]
  },
  {
   "cell_type": "code",
   "execution_count": null,
   "metadata": {
    "execution": {
     "iopub.execute_input": "2025-01-17T18:36:21.734336Z",
     "iopub.status.busy": "2025-01-17T18:36:21.734103Z",
     "iopub.status.idle": "2025-01-17T18:36:21.751677Z",
     "shell.execute_reply": "2025-01-17T18:36:21.751447Z"
    }
   },
   "outputs": [],
   "source": [
    "# we verify contents written by __init__\n",
    "cell_measurements"
   ]
  },
  {
   "cell_type": "code",
   "execution_count": null,
   "metadata": {
    "execution": {
     "iopub.execute_input": "2025-01-17T18:36:21.752903Z",
     "iopub.status.busy": "2025-01-17T18:36:21.752832Z",
     "iopub.status.idle": "2025-01-17T18:36:21.759967Z",
     "shell.execute_reply": "2025-01-17T18:36:21.759779Z"
    }
   },
   "outputs": [],
   "source": [
    "# we verify config written by __init__\n",
    "cell_measurements.meta"
   ]
  },
  {
   "cell_type": "code",
   "execution_count": null,
   "metadata": {
    "execution": {
     "iopub.execute_input": "2025-01-17T18:36:21.761217Z",
     "iopub.status.busy": "2025-01-17T18:36:21.761149Z",
     "iopub.status.idle": "2025-01-17T18:36:26.805075Z",
     "shell.execute_reply": "2025-01-17T18:36:26.804730Z"
    }
   },
   "outputs": [],
   "source": [
    "# we change the seed\n",
    "# we automatically get a second directory of the same type (but with different data)\n",
    "cell_measurements_2 = CellMeasurements(n_cells=100, seed=42)"
   ]
  },
  {
   "cell_type": "code",
   "execution_count": null,
   "metadata": {
    "execution": {
     "iopub.execute_input": "2025-01-17T18:36:26.807017Z",
     "iopub.status.busy": "2025-01-17T18:36:26.806867Z",
     "iopub.status.idle": "2025-01-17T18:36:26.820166Z",
     "shell.execute_reply": "2025-01-17T18:36:26.819948Z"
    }
   },
   "outputs": [],
   "source": [
    "# we verify contents written by __init__\n",
    "cell_measurements_2"
   ]
  },
  {
   "cell_type": "code",
   "execution_count": null,
   "metadata": {
    "execution": {
     "iopub.execute_input": "2025-01-17T18:36:26.821569Z",
     "iopub.status.busy": "2025-01-17T18:36:26.821492Z",
     "iopub.status.idle": "2025-01-17T18:36:26.828955Z",
     "shell.execute_reply": "2025-01-17T18:36:26.828771Z"
    }
   },
   "outputs": [],
   "source": [
    "# we verify config written by __init__\n",
    "cell_measurements_2.meta"
   ]
  },
  {
   "cell_type": "markdown",
   "metadata": {},
   "source": [
    "## Memory persistence\n",
    "\n",
    "We restart the kernel and retrieve the data quickly later, using the same code and without recomputing."
   ]
  },
  {
   "cell_type": "code",
   "execution_count": null,
   "metadata": {
    "execution": {
     "iopub.execute_input": "2025-01-17T18:36:26.830109Z",
     "iopub.status.busy": "2025-01-17T18:36:26.830046Z",
     "iopub.status.idle": "2025-01-17T18:36:26.836846Z",
     "shell.execute_reply": "2025-01-17T18:36:26.836657Z"
    }
   },
   "outputs": [],
   "source": [
    "from time import sleep\n",
    "from pathlib import Path\n",
    "import numpy as np\n",
    "import matplotlib.pyplot as plt\n",
    "\n",
    "from datamate import Directory, root\n",
    "\n",
    "data_dir = Path(\".\") / \"data\"\n",
    "\n",
    "\n",
    "@root(data_dir)\n",
    "class CellMeasurements(Directory):\n",
    "\n",
    "    def __init__(self, n_cells=100, seed=0):\n",
    "        print(\"Loading connectome ...\")\n",
    "        sleep(5)\n",
    "        np.random.seed(seed)\n",
    "\n",
    "        # store cell attributes\n",
    "        self.cell_id = np.arange(n_cells)\n",
    "        self.x = np.random.normal(0, 1, size=n_cells)\n",
    "        self.y = np.random.normal(0, 1, size=n_cells)\n",
    "        self.colors = np.random.rand(n_cells, 3)\n",
    "\n",
    "        # store connectivity attributes\n",
    "        connectivity_matrix = np.random.randn(n_cells, n_cells)\n",
    "        pre_cell_id, post_cell_id = np.where(connectivity_matrix > 2)\n",
    "        self.connections.pre_cell_id = pre_cell_id\n",
    "        self.connections.post_cell_id = post_cell_id\n",
    "        print(\"Stored connectome!\")"
   ]
  },
  {
   "cell_type": "code",
   "execution_count": null,
   "metadata": {
    "execution": {
     "iopub.execute_input": "2025-01-17T18:36:26.837930Z",
     "iopub.status.busy": "2025-01-17T18:36:26.837871Z",
     "iopub.status.idle": "2025-01-17T18:36:26.845671Z",
     "shell.execute_reply": "2025-01-17T18:36:26.845433Z"
    }
   },
   "outputs": [],
   "source": [
    "# fast init because points to the directories with the same type and configuration\n",
    "cell_measurements = CellMeasurements(n_cells=100, seed=0)\n",
    "cell_measurements_2 = CellMeasurements(n_cells=100, seed=42)"
   ]
  },
  {
   "cell_type": "code",
   "execution_count": null,
   "metadata": {
    "execution": {
     "iopub.execute_input": "2025-01-17T18:36:26.846782Z",
     "iopub.status.busy": "2025-01-17T18:36:26.846715Z",
     "iopub.status.idle": "2025-01-17T18:36:26.853060Z",
     "shell.execute_reply": "2025-01-17T18:36:26.852871Z"
    }
   },
   "outputs": [],
   "source": [
    "cell_measurements.config"
   ]
  },
  {
   "cell_type": "code",
   "execution_count": null,
   "metadata": {
    "execution": {
     "iopub.execute_input": "2025-01-17T18:36:26.854062Z",
     "iopub.status.busy": "2025-01-17T18:36:26.854009Z",
     "iopub.status.idle": "2025-01-17T18:36:26.860046Z",
     "shell.execute_reply": "2025-01-17T18:36:26.859873Z"
    }
   },
   "outputs": [],
   "source": [
    "cell_measurements_2.config"
   ]
  },
  {
   "cell_type": "markdown",
   "metadata": {},
   "source": [
    "### Pandas integration"
   ]
  },
  {
   "cell_type": "markdown",
   "metadata": {},
   "source": [
    "We load the h5 data to a pandas dataframe for further processing."
   ]
  },
  {
   "cell_type": "code",
   "execution_count": null,
   "metadata": {
    "execution": {
     "iopub.execute_input": "2025-01-17T18:36:26.861161Z",
     "iopub.status.busy": "2025-01-17T18:36:26.861107Z",
     "iopub.status.idle": "2025-01-17T18:36:26.873400Z",
     "shell.execute_reply": "2025-01-17T18:36:26.873232Z"
    }
   },
   "outputs": [],
   "source": [
    "cells = cell_measurements.to_df()\n",
    "connections = cell_measurements.connections.to_df()"
   ]
  },
  {
   "cell_type": "code",
   "execution_count": null,
   "metadata": {
    "execution": {
     "iopub.execute_input": "2025-01-17T18:36:26.874510Z",
     "iopub.status.busy": "2025-01-17T18:36:26.874429Z",
     "iopub.status.idle": "2025-01-17T18:36:26.885999Z",
     "shell.execute_reply": "2025-01-17T18:36:26.885827Z"
    }
   },
   "outputs": [],
   "source": [
    "cells"
   ]
  },
  {
   "cell_type": "code",
   "execution_count": null,
   "metadata": {
    "execution": {
     "iopub.execute_input": "2025-01-17T18:36:26.887021Z",
     "iopub.status.busy": "2025-01-17T18:36:26.886950Z",
     "iopub.status.idle": "2025-01-17T18:36:26.893002Z",
     "shell.execute_reply": "2025-01-17T18:36:26.892820Z"
    }
   },
   "outputs": [],
   "source": [
    "connections"
   ]
  },
  {
   "cell_type": "markdown",
   "metadata": {},
   "source": [
    "We load the meta data into a pandas dataframe."
   ]
  },
  {
   "cell_type": "code",
   "execution_count": null,
   "metadata": {
    "execution": {
     "iopub.execute_input": "2025-01-17T18:36:26.894036Z",
     "iopub.status.busy": "2025-01-17T18:36:26.893963Z",
     "iopub.status.idle": "2025-01-17T18:36:26.900669Z",
     "shell.execute_reply": "2025-01-17T18:36:26.900515Z"
    }
   },
   "outputs": [],
   "source": [
    "cell_measurements.meta.to_df(name=\"measurements 1\")"
   ]
  },
  {
   "cell_type": "code",
   "execution_count": null,
   "metadata": {
    "execution": {
     "iopub.execute_input": "2025-01-17T18:36:26.901579Z",
     "iopub.status.busy": "2025-01-17T18:36:26.901515Z",
     "iopub.status.idle": "2025-01-17T18:36:26.907749Z",
     "shell.execute_reply": "2025-01-17T18:36:26.907591Z"
    }
   },
   "outputs": [],
   "source": [
    "cell_measurements_2.meta.to_df(name=\"measurements 2\")"
   ]
  },
  {
   "cell_type": "markdown",
   "metadata": {},
   "source": [
    "We tabularize experiment configurations."
   ]
  },
  {
   "cell_type": "code",
   "execution_count": null,
   "metadata": {
    "execution": {
     "iopub.execute_input": "2025-01-17T18:36:26.908807Z",
     "iopub.status.busy": "2025-01-17T18:36:26.908746Z",
     "iopub.status.idle": "2025-01-17T18:36:26.917430Z",
     "shell.execute_reply": "2025-01-17T18:36:26.917270Z"
    }
   },
   "outputs": [],
   "source": [
    "configs = cell_measurements.meta.to_df(name=\"measurements 1\").join(\n",
    "    cell_measurements_2.meta.to_df(name=\"measurements 2\")\n",
    ")\n",
    "configs"
   ]
  },
  {
   "cell_type": "markdown",
   "metadata": {},
   "source": [
    "Or, vice versa, we create a directory from a pandas DataFrame (note, must provide [h5py compatible type information](https://docs.h5py.org/en/stable/faq.html)):"
   ]
  },
  {
   "cell_type": "code",
   "execution_count": null,
   "metadata": {
    "execution": {
     "iopub.execute_input": "2025-01-17T18:36:26.918436Z",
     "iopub.status.busy": "2025-01-17T18:36:26.918369Z",
     "iopub.status.idle": "2025-01-17T18:36:26.923797Z",
     "shell.execute_reply": "2025-01-17T18:36:26.923632Z"
    }
   },
   "outputs": [],
   "source": [
    "configs"
   ]
  },
  {
   "cell_type": "code",
   "execution_count": null,
   "metadata": {
    "execution": {
     "iopub.execute_input": "2025-01-17T18:36:26.924765Z",
     "iopub.status.busy": "2025-01-17T18:36:26.924708Z",
     "iopub.status.idle": "2025-01-17T18:36:26.929586Z",
     "shell.execute_reply": "2025-01-17T18:36:26.929375Z"
    }
   },
   "outputs": [],
   "source": [
    "dtypes = {\"measurements 1\": \"S50\", \"measurements 2\": \"S50\"}"
   ]
  },
  {
   "cell_type": "code",
   "execution_count": null,
   "metadata": {
    "execution": {
     "iopub.execute_input": "2025-01-17T18:36:26.930545Z",
     "iopub.status.busy": "2025-01-17T18:36:26.930485Z",
     "iopub.status.idle": "2025-01-17T18:36:26.938551Z",
     "shell.execute_reply": "2025-01-17T18:36:26.938370Z"
    }
   },
   "outputs": [],
   "source": [
    "# we create a directory from the dataframe of configs\n",
    "directory = Directory.from_df(configs, dtypes, \"experiments_config\")"
   ]
  },
  {
   "cell_type": "code",
   "execution_count": null,
   "metadata": {
    "execution": {
     "iopub.execute_input": "2025-01-17T18:36:26.939607Z",
     "iopub.status.busy": "2025-01-17T18:36:26.939545Z",
     "iopub.status.idle": "2025-01-17T18:36:26.946803Z",
     "shell.execute_reply": "2025-01-17T18:36:26.946642Z"
    }
   },
   "outputs": [],
   "source": [
    "directory"
   ]
  },
  {
   "cell_type": "code",
   "execution_count": null,
   "metadata": {
    "execution": {
     "iopub.execute_input": "2025-01-17T18:36:26.947777Z",
     "iopub.status.busy": "2025-01-17T18:36:26.947713Z",
     "iopub.status.idle": "2025-01-17T18:36:26.954564Z",
     "shell.execute_reply": "2025-01-17T18:36:26.954378Z"
    }
   },
   "outputs": [],
   "source": [
    "directory.to_df(dtypes={\"measurements 1\": str, \"measurements 2\": str})"
   ]
  },
  {
   "cell_type": "markdown",
   "metadata": {},
   "source": [
    "Alternatively, we seamlessly store and retrieve dataframes via csv files."
   ]
  },
  {
   "cell_type": "code",
   "execution_count": null,
   "metadata": {
    "execution": {
     "iopub.execute_input": "2025-01-17T18:36:26.955541Z",
     "iopub.status.busy": "2025-01-17T18:36:26.955477Z",
     "iopub.status.idle": "2025-01-17T18:36:26.965201Z",
     "shell.execute_reply": "2025-01-17T18:36:26.964980Z"
    }
   },
   "outputs": [],
   "source": [
    "directory.cells = cell_measurements.to_df()\n",
    "directory.connections = connections"
   ]
  },
  {
   "cell_type": "code",
   "execution_count": null,
   "metadata": {
    "execution": {
     "iopub.execute_input": "2025-01-17T18:36:26.966192Z",
     "iopub.status.busy": "2025-01-17T18:36:26.966129Z",
     "iopub.status.idle": "2025-01-17T18:36:26.974071Z",
     "shell.execute_reply": "2025-01-17T18:36:26.973906Z"
    }
   },
   "outputs": [],
   "source": [
    "# we verify the dataframes\n",
    "directory.cells"
   ]
  },
  {
   "cell_type": "code",
   "execution_count": null,
   "metadata": {
    "execution": {
     "iopub.execute_input": "2025-01-17T18:36:26.975123Z",
     "iopub.status.busy": "2025-01-17T18:36:26.975055Z",
     "iopub.status.idle": "2025-01-17T18:36:26.981277Z",
     "shell.execute_reply": "2025-01-17T18:36:26.981119Z"
    }
   },
   "outputs": [],
   "source": [
    "directory.connections"
   ]
  },
  {
   "cell_type": "code",
   "execution_count": null,
   "metadata": {
    "execution": {
     "iopub.execute_input": "2025-01-17T18:36:26.982211Z",
     "iopub.status.busy": "2025-01-17T18:36:26.982148Z",
     "iopub.status.idle": "2025-01-17T18:36:26.995587Z",
     "shell.execute_reply": "2025-01-17T18:36:26.995350Z"
    }
   },
   "outputs": [],
   "source": [
    "# we extend the dataframes\n",
    "directory.extend(\"cells\", cell_measurements_2.to_df())\n",
    "directory.extend(\"connections\", cell_measurements_2.connections.to_df())"
   ]
  },
  {
   "cell_type": "code",
   "execution_count": null,
   "metadata": {
    "execution": {
     "iopub.execute_input": "2025-01-17T18:36:26.996657Z",
     "iopub.status.busy": "2025-01-17T18:36:26.996588Z",
     "iopub.status.idle": "2025-01-17T18:36:27.003265Z",
     "shell.execute_reply": "2025-01-17T18:36:27.003110Z"
    }
   },
   "outputs": [],
   "source": [
    "# we verify the dataframes\n",
    "directory.cells"
   ]
  },
  {
   "cell_type": "code",
   "execution_count": null,
   "metadata": {
    "execution": {
     "iopub.execute_input": "2025-01-17T18:36:27.004175Z",
     "iopub.status.busy": "2025-01-17T18:36:27.004112Z",
     "iopub.status.idle": "2025-01-17T18:36:27.010009Z",
     "shell.execute_reply": "2025-01-17T18:36:27.009860Z"
    }
   },
   "outputs": [],
   "source": [
    "# we verify the dataframes\n",
    "directory.connections"
   ]
  },
  {
   "cell_type": "markdown",
   "metadata": {},
   "source": [
    "### Example: visualize the graph"
   ]
  },
  {
   "cell_type": "code",
   "execution_count": null,
   "metadata": {
    "execution": {
     "iopub.execute_input": "2025-01-17T18:36:27.010990Z",
     "iopub.status.busy": "2025-01-17T18:36:27.010937Z",
     "iopub.status.idle": "2025-01-17T18:36:27.017581Z",
     "shell.execute_reply": "2025-01-17T18:36:27.017393Z"
    }
   },
   "outputs": [],
   "source": [
    "def visualize_measurements(cell_measurements):\n",
    "    try:\n",
    "        import networkx as nx\n",
    "    except ModuleNotFoundError as e:\n",
    "        print(e, \", install networkx to visualize the cell graph structure.\")\n",
    "        _input = input(\"install now? yes/no\")\n",
    "        if _input == \"yes\":\n",
    "            import sys\n",
    "            !{sys.executable} -m pip install networkx\n",
    "            import networkx as nx\n",
    "        else:\n",
    "            return\n",
    "        \n",
    "    cells = cell_measurements.to_df()\n",
    "    connections = cell_measurements.connections.to_df()\n",
    "        \n",
    "    G = nx.Graph()\n",
    "    G.add_nodes_from(cells.cell_id)\n",
    "    G.add_edges_from(connections.values)\n",
    "    pos = dict(zip(cells[\"cell_id\"].values, cells[[\"x\", \"y\"]].values))\n",
    "\n",
    "    options = {\n",
    "        \"font_size\": 4,\n",
    "        \"node_size\": 10,\n",
    "        \"node_color\": cell_measurements.colors[:],\n",
    "        \"edgecolors\": \"0.5\",\n",
    "        \"linewidths\": 0.25,\n",
    "        \"width\": 0.25,\n",
    "    }\n",
    "    nx.draw_networkx(G, pos, **options)"
   ]
  },
  {
   "cell_type": "code",
   "execution_count": null,
   "metadata": {
    "execution": {
     "iopub.execute_input": "2025-01-17T18:36:27.018720Z",
     "iopub.status.busy": "2025-01-17T18:36:27.018639Z",
     "iopub.status.idle": "2025-01-17T18:36:27.406997Z",
     "shell.execute_reply": "2025-01-17T18:36:27.406791Z"
    }
   },
   "outputs": [],
   "source": [
    "visualize_measurements(cell_measurements)"
   ]
  },
  {
   "cell_type": "code",
   "execution_count": null,
   "metadata": {
    "execution": {
     "iopub.execute_input": "2025-01-17T18:36:27.408669Z",
     "iopub.status.busy": "2025-01-17T18:36:27.408548Z",
     "iopub.status.idle": "2025-01-17T18:36:27.498794Z",
     "shell.execute_reply": "2025-01-17T18:36:27.498584Z"
    }
   },
   "outputs": [],
   "source": [
    "visualize_measurements(cell_measurements_2)"
   ]
  },
  {
   "cell_type": "markdown",
   "metadata": {},
   "source": [
    "## Configuration comparison and diffing"
   ]
  },
  {
   "cell_type": "code",
   "execution_count": null,
   "metadata": {
    "execution": {
     "iopub.execute_input": "2025-01-17T18:36:27.500275Z",
     "iopub.status.busy": "2025-01-17T18:36:27.500189Z",
     "iopub.status.idle": "2025-01-17T18:36:27.508963Z",
     "shell.execute_reply": "2025-01-17T18:36:27.508767Z"
    }
   },
   "outputs": [],
   "source": [
    "# we compare how the `measurements` differ in their configuration\n",
    "# (this works with complex nested configurations too)\n",
    "cell_measurements.meta.diff(cell_measurements_2.meta)"
   ]
  },
  {
   "cell_type": "markdown",
   "metadata": {},
   "source": [
    "## Directory structure visualization (tree view)"
   ]
  },
  {
   "cell_type": "code",
   "execution_count": null,
   "metadata": {
    "execution": {
     "iopub.execute_input": "2025-01-17T18:36:27.510098Z",
     "iopub.status.busy": "2025-01-17T18:36:27.510039Z",
     "iopub.status.idle": "2025-01-17T18:36:27.516031Z",
     "shell.execute_reply": "2025-01-17T18:36:27.515852Z"
    }
   },
   "outputs": [],
   "source": [
    "from datamate import Directory, set_verbosity_level\n",
    "\n",
    "data_dir = Path(\".\") / \"data\""
   ]
  },
  {
   "cell_type": "code",
   "execution_count": null,
   "metadata": {
    "execution": {
     "iopub.execute_input": "2025-01-17T18:36:27.517086Z",
     "iopub.status.busy": "2025-01-17T18:36:27.517035Z",
     "iopub.status.idle": "2025-01-17T18:36:27.526276Z",
     "shell.execute_reply": "2025-01-17T18:36:27.526082Z"
    }
   },
   "outputs": [],
   "source": [
    "# default: we display 2 levels of the hierarchy and 25 lines\n",
    "set_verbosity_level(1)\n",
    "Directory(data_dir)"
   ]
  },
  {
   "cell_type": "code",
   "execution_count": null,
   "metadata": {
    "execution": {
     "iopub.execute_input": "2025-01-17T18:36:27.527312Z",
     "iopub.status.busy": "2025-01-17T18:36:27.527258Z",
     "iopub.status.idle": "2025-01-17T18:36:27.536542Z",
     "shell.execute_reply": "2025-01-17T18:36:27.536363Z"
    }
   },
   "outputs": [],
   "source": [
    "# we display all subdirectories and files\n",
    "set_verbosity_level(2)\n",
    "Directory(data_dir)"
   ]
  },
  {
   "cell_type": "code",
   "execution_count": null,
   "metadata": {
    "execution": {
     "iopub.execute_input": "2025-01-17T18:36:27.537565Z",
     "iopub.status.busy": "2025-01-17T18:36:27.537485Z",
     "iopub.status.idle": "2025-01-17T18:36:27.546118Z",
     "shell.execute_reply": "2025-01-17T18:36:27.545941Z"
    }
   },
   "outputs": [],
   "source": [
    "# we display referenced folder and last modified date\n",
    "set_verbosity_level(0)\n",
    "Directory(data_dir)"
   ]
  },
  {
   "cell_type": "code",
   "execution_count": null,
   "metadata": {
    "execution": {
     "iopub.execute_input": "2025-01-17T18:36:27.547129Z",
     "iopub.status.busy": "2025-01-17T18:36:27.547070Z",
     "iopub.status.idle": "2025-01-17T18:36:27.552884Z",
     "shell.execute_reply": "2025-01-17T18:36:27.552704Z"
    }
   },
   "outputs": [],
   "source": [
    "set_verbosity_level(2)"
   ]
  },
  {
   "cell_type": "markdown",
   "metadata": {},
   "source": [
    "## Parallel read/write operations\n",
    "\n",
    "We start the training loop by running the cells below.\n",
    "\n",
    "We run the jupyter notebook `01b_datamate_intro_supplement.ipynb` to see how data is simultaneously written and read to the loss.h5 file."
   ]
  },
  {
   "cell_type": "code",
   "execution_count": null,
   "metadata": {
    "execution": {
     "iopub.execute_input": "2025-01-17T18:36:27.553954Z",
     "iopub.status.busy": "2025-01-17T18:36:27.553901Z",
     "iopub.status.idle": "2025-01-17T18:36:27.587186Z",
     "shell.execute_reply": "2025-01-17T18:36:27.587001Z"
    }
   },
   "outputs": [],
   "source": [
    "from tqdm.auto import tqdm\n",
    "from time import sleep\n",
    "from pathlib import Path\n",
    "import numpy as np\n",
    "import matplotlib.pyplot as plt\n",
    "\n",
    "from datamate import Directory, root\n",
    "\n",
    "data_dir = Path(\".\") / \"data\"\n",
    "\n",
    "\n",
    "@root(data_dir)\n",
    "class NetworkDir(Directory):\n",
    "\n",
    "    class Config:\n",
    "        tau: float = 200.0\n",
    "        sigma: float = 0.1\n",
    "\n",
    "    def __init__(self, num_iters: int = 100):\n",
    "        del self.loss\n",
    "        for i in tqdm(range(num_iters), desc=\"Training\"):\n",
    "            self.train_iter(i)\n",
    "\n",
    "    def train_iter(self, iter):\n",
    "        self.extend(\n",
    "            \"loss\",\n",
    "            [np.exp(-iter / self.config.tau) + np.random.rand() * self.config.sigma],\n",
    "        )\n",
    "        sleep(0.25)"
   ]
  },
  {
   "cell_type": "code",
   "execution_count": null,
   "metadata": {
    "execution": {
     "iopub.execute_input": "2025-01-17T18:36:27.588341Z",
     "iopub.status.busy": "2025-01-17T18:36:27.588268Z",
     "iopub.status.idle": "2025-01-17T18:36:54.172540Z",
     "shell.execute_reply": "2025-01-17T18:36:54.171621Z"
    }
   },
   "outputs": [],
   "source": [
    "network_dir = NetworkDir()\n",
    "network_dir"
   ]
  },
  {
   "cell_type": "code",
   "execution_count": null,
   "metadata": {
    "execution": {
     "iopub.execute_input": "2025-01-17T18:36:54.178947Z",
     "iopub.status.busy": "2025-01-17T18:36:54.178170Z",
     "iopub.status.idle": "2025-01-17T18:36:54.286524Z",
     "shell.execute_reply": "2025-01-17T18:36:54.283179Z"
    }
   },
   "outputs": [],
   "source": [
    "plt.plot(network_dir.loss[:])\n",
    "plt.xlabel(\"iteration\")\n",
    "plt.ylabel(\"loss\")\n",
    "plt.title(\"Training loss\")"
   ]
  },
  {
   "cell_type": "code",
   "execution_count": null,
   "metadata": {
    "execution": {
     "iopub.execute_input": "2025-01-17T18:36:54.292639Z",
     "iopub.status.busy": "2025-01-17T18:36:54.292387Z",
     "iopub.status.idle": "2025-01-17T18:36:54.306989Z",
     "shell.execute_reply": "2025-01-17T18:36:54.306583Z"
    }
   },
   "outputs": [],
   "source": [
    "# we verify that the directory exists\n",
    "\"NetworkDir_0000\" in Directory(data_dir)"
   ]
  },
  {
   "cell_type": "code",
   "execution_count": null,
   "metadata": {
    "execution": {
     "iopub.execute_input": "2025-01-17T18:36:54.310028Z",
     "iopub.status.busy": "2025-01-17T18:36:54.309774Z",
     "iopub.status.idle": "2025-01-17T18:36:54.327309Z",
     "shell.execute_reply": "2025-01-17T18:36:54.326789Z"
    }
   },
   "outputs": [],
   "source": [
    "# we delete the directory and its contents\n",
    "# network_dir.rmtree(\"y\")"
   ]
  },
  {
   "cell_type": "code",
   "execution_count": null,
   "metadata": {
    "execution": {
     "iopub.execute_input": "2025-01-17T18:36:54.331173Z",
     "iopub.status.busy": "2025-01-17T18:36:54.330940Z",
     "iopub.status.idle": "2025-01-17T18:36:54.343081Z",
     "shell.execute_reply": "2025-01-17T18:36:54.342358Z"
    }
   },
   "outputs": [],
   "source": [
    "# we verify that the directory is deleted\n",
    "# \"NetworkDir_0000\" in Directory(data_dir)"
   ]
  },
  {
   "cell_type": "code",
   "execution_count": null,
   "metadata": {},
   "outputs": [],
   "source": []
  }
 ],
 "metadata": {
  "kernelspec": {
   "display_name": "Python 3 (ipykernel)",
   "language": "python",
   "name": "python3"
  },
  "language_info": {
   "codemirror_mode": {
    "name": "ipython",
    "version": 3
   },
   "file_extension": ".py",
   "mimetype": "text/x-python",
   "name": "python",
   "nbconvert_exporter": "python",
   "pygments_lexer": "ipython3",
   "version": "3.12.2"
  },
  "toc": {
   "base_numbering": 1,
   "nav_menu": {},
   "number_sections": true,
   "sideBar": true,
   "skip_h1_title": false,
   "title_cell": "Table of Contents",
   "title_sidebar": "Contents",
   "toc_cell": false,
   "toc_position": {
    "height": "calc(100% - 180px)",
    "left": "10px",
    "top": "150px",
    "width": "370px"
   },
   "toc_section_display": true,
   "toc_window_display": false
  },
  "varInspector": {
   "cols": {
    "lenName": 16,
    "lenType": 16,
    "lenVar": 40
   },
   "kernels_config": {
    "python": {
     "delete_cmd_postfix": "",
     "delete_cmd_prefix": "del ",
     "library": "var_list.py",
     "varRefreshCmd": "print(var_dic_list())"
    },
    "r": {
     "delete_cmd_postfix": ") ",
     "delete_cmd_prefix": "rm(",
     "library": "var_list.r",
     "varRefreshCmd": "cat(var_dic_list()) "
    }
   },
   "types_to_exclude": [
    "module",
    "function",
    "builtin_function_or_method",
    "instance",
    "_Feature"
   ],
   "window_display": false
  },
  "widgets": {
   "application/vnd.jupyter.widget-state+json": {
    "state": {
     "0677c683f0854c3ba4dfc247ae53ae0d": {
      "model_module": "@jupyter-widgets/base",
      "model_module_version": "2.0.0",
      "model_name": "LayoutModel",
      "state": {
       "_model_module": "@jupyter-widgets/base",
       "_model_module_version": "2.0.0",
       "_model_name": "LayoutModel",
       "_view_count": null,
       "_view_module": "@jupyter-widgets/base",
       "_view_module_version": "2.0.0",
       "_view_name": "LayoutView",
       "align_content": null,
       "align_items": null,
       "align_self": null,
       "border_bottom": null,
       "border_left": null,
       "border_right": null,
       "border_top": null,
       "bottom": null,
       "display": null,
       "flex": null,
       "flex_flow": null,
       "grid_area": null,
       "grid_auto_columns": null,
       "grid_auto_flow": null,
       "grid_auto_rows": null,
       "grid_column": null,
       "grid_gap": null,
       "grid_row": null,
       "grid_template_areas": null,
       "grid_template_columns": null,
       "grid_template_rows": null,
       "height": null,
       "justify_content": null,
       "justify_items": null,
       "left": null,
       "margin": null,
       "max_height": null,
       "max_width": null,
       "min_height": null,
       "min_width": null,
       "object_fit": null,
       "object_position": null,
       "order": null,
       "overflow": null,
       "padding": null,
       "right": null,
       "top": null,
       "visibility": null,
       "width": null
      }
     },
     "112cebeedb20493b92f751101772c7fd": {
      "model_module": "@jupyter-widgets/base",
      "model_module_version": "2.0.0",
      "model_name": "LayoutModel",
      "state": {
       "_model_module": "@jupyter-widgets/base",
       "_model_module_version": "2.0.0",
       "_model_name": "LayoutModel",
       "_view_count": null,
       "_view_module": "@jupyter-widgets/base",
       "_view_module_version": "2.0.0",
       "_view_name": "LayoutView",
       "align_content": null,
       "align_items": null,
       "align_self": null,
       "border_bottom": null,
       "border_left": null,
       "border_right": null,
       "border_top": null,
       "bottom": null,
       "display": null,
       "flex": null,
       "flex_flow": null,
       "grid_area": null,
       "grid_auto_columns": null,
       "grid_auto_flow": null,
       "grid_auto_rows": null,
       "grid_column": null,
       "grid_gap": null,
       "grid_row": null,
       "grid_template_areas": null,
       "grid_template_columns": null,
       "grid_template_rows": null,
       "height": null,
       "justify_content": null,
       "justify_items": null,
       "left": null,
       "margin": null,
       "max_height": null,
       "max_width": null,
       "min_height": null,
       "min_width": null,
       "object_fit": null,
       "object_position": null,
       "order": null,
       "overflow": null,
       "padding": null,
       "right": null,
       "top": null,
       "visibility": null,
       "width": null
      }
     },
     "167d2de8aeca45fb861524d761201867": {
      "model_module": "@jupyter-widgets/base",
      "model_module_version": "2.0.0",
      "model_name": "LayoutModel",
      "state": {
       "_model_module": "@jupyter-widgets/base",
       "_model_module_version": "2.0.0",
       "_model_name": "LayoutModel",
       "_view_count": null,
       "_view_module": "@jupyter-widgets/base",
       "_view_module_version": "2.0.0",
       "_view_name": "LayoutView",
       "align_content": null,
       "align_items": null,
       "align_self": null,
       "border_bottom": null,
       "border_left": null,
       "border_right": null,
       "border_top": null,
       "bottom": null,
       "display": null,
       "flex": null,
       "flex_flow": null,
       "grid_area": null,
       "grid_auto_columns": null,
       "grid_auto_flow": null,
       "grid_auto_rows": null,
       "grid_column": null,
       "grid_gap": null,
       "grid_row": null,
       "grid_template_areas": null,
       "grid_template_columns": null,
       "grid_template_rows": null,
       "height": null,
       "justify_content": null,
       "justify_items": null,
       "left": null,
       "margin": null,
       "max_height": null,
       "max_width": null,
       "min_height": null,
       "min_width": null,
       "object_fit": null,
       "object_position": null,
       "order": null,
       "overflow": null,
       "padding": null,
       "right": null,
       "top": null,
       "visibility": null,
       "width": null
      }
     },
     "1748a8995429448b941a372cf1ee1bbe": {
      "model_module": "@jupyter-widgets/controls",
      "model_module_version": "2.0.0",
      "model_name": "HTMLModel",
      "state": {
       "_dom_classes": [],
       "_model_module": "@jupyter-widgets/controls",
       "_model_module_version": "2.0.0",
       "_model_name": "HTMLModel",
       "_view_count": null,
       "_view_module": "@jupyter-widgets/controls",
       "_view_module_version": "2.0.0",
       "_view_name": "HTMLView",
       "description": "",
       "description_allow_html": false,
       "layout": "IPY_MODEL_da5df57d07904231a9e6b8075cce5c22",
       "placeholder": "​",
       "style": "IPY_MODEL_ea2eea7653bb40e389df13bb0e4c6ab0",
       "tabbable": null,
       "tooltip": null,
       "value": " 100/100 [00:26&lt;00:00,  3.80it/s]"
      }
     },
     "37800ade85aa42f7afc46d2afa103f87": {
      "model_module": "@jupyter-widgets/controls",
      "model_module_version": "2.0.0",
      "model_name": "HBoxModel",
      "state": {
       "_dom_classes": [],
       "_model_module": "@jupyter-widgets/controls",
       "_model_module_version": "2.0.0",
       "_model_name": "HBoxModel",
       "_view_count": null,
       "_view_module": "@jupyter-widgets/controls",
       "_view_module_version": "2.0.0",
       "_view_name": "HBoxView",
       "box_style": "",
       "children": [
        "IPY_MODEL_b87af0fb30e0488997747c07291fc437",
        "IPY_MODEL_fcdedb65817d4291922aeb9e9e83386a",
        "IPY_MODEL_1748a8995429448b941a372cf1ee1bbe"
       ],
       "layout": "IPY_MODEL_0677c683f0854c3ba4dfc247ae53ae0d",
       "tabbable": null,
       "tooltip": null
      }
     },
     "4813e385189d46c1b820218d18e96bf1": {
      "model_module": "@jupyter-widgets/controls",
      "model_module_version": "2.0.0",
      "model_name": "HTMLStyleModel",
      "state": {
       "_model_module": "@jupyter-widgets/controls",
       "_model_module_version": "2.0.0",
       "_model_name": "HTMLStyleModel",
       "_view_count": null,
       "_view_module": "@jupyter-widgets/base",
       "_view_module_version": "2.0.0",
       "_view_name": "StyleView",
       "background": null,
       "description_width": "",
       "font_size": null,
       "text_color": null
      }
     },
     "7ee6e43584854e85859b5615bf9efa83": {
      "model_module": "@jupyter-widgets/controls",
      "model_module_version": "2.0.0",
      "model_name": "ProgressStyleModel",
      "state": {
       "_model_module": "@jupyter-widgets/controls",
       "_model_module_version": "2.0.0",
       "_model_name": "ProgressStyleModel",
       "_view_count": null,
       "_view_module": "@jupyter-widgets/base",
       "_view_module_version": "2.0.0",
       "_view_name": "StyleView",
       "bar_color": null,
       "description_width": ""
      }
     },
     "b87af0fb30e0488997747c07291fc437": {
      "model_module": "@jupyter-widgets/controls",
      "model_module_version": "2.0.0",
      "model_name": "HTMLModel",
      "state": {
       "_dom_classes": [],
       "_model_module": "@jupyter-widgets/controls",
       "_model_module_version": "2.0.0",
       "_model_name": "HTMLModel",
       "_view_count": null,
       "_view_module": "@jupyter-widgets/controls",
       "_view_module_version": "2.0.0",
       "_view_name": "HTMLView",
       "description": "",
       "description_allow_html": false,
       "layout": "IPY_MODEL_112cebeedb20493b92f751101772c7fd",
       "placeholder": "​",
       "style": "IPY_MODEL_4813e385189d46c1b820218d18e96bf1",
       "tabbable": null,
       "tooltip": null,
       "value": "Training: 100%"
      }
     },
     "da5df57d07904231a9e6b8075cce5c22": {
      "model_module": "@jupyter-widgets/base",
      "model_module_version": "2.0.0",
      "model_name": "LayoutModel",
      "state": {
       "_model_module": "@jupyter-widgets/base",
       "_model_module_version": "2.0.0",
       "_model_name": "LayoutModel",
       "_view_count": null,
       "_view_module": "@jupyter-widgets/base",
       "_view_module_version": "2.0.0",
       "_view_name": "LayoutView",
       "align_content": null,
       "align_items": null,
       "align_self": null,
       "border_bottom": null,
       "border_left": null,
       "border_right": null,
       "border_top": null,
       "bottom": null,
       "display": null,
       "flex": null,
       "flex_flow": null,
       "grid_area": null,
       "grid_auto_columns": null,
       "grid_auto_flow": null,
       "grid_auto_rows": null,
       "grid_column": null,
       "grid_gap": null,
       "grid_row": null,
       "grid_template_areas": null,
       "grid_template_columns": null,
       "grid_template_rows": null,
       "height": null,
       "justify_content": null,
       "justify_items": null,
       "left": null,
       "margin": null,
       "max_height": null,
       "max_width": null,
       "min_height": null,
       "min_width": null,
       "object_fit": null,
       "object_position": null,
       "order": null,
       "overflow": null,
       "padding": null,
       "right": null,
       "top": null,
       "visibility": null,
       "width": null
      }
     },
     "ea2eea7653bb40e389df13bb0e4c6ab0": {
      "model_module": "@jupyter-widgets/controls",
      "model_module_version": "2.0.0",
      "model_name": "HTMLStyleModel",
      "state": {
       "_model_module": "@jupyter-widgets/controls",
       "_model_module_version": "2.0.0",
       "_model_name": "HTMLStyleModel",
       "_view_count": null,
       "_view_module": "@jupyter-widgets/base",
       "_view_module_version": "2.0.0",
       "_view_name": "StyleView",
       "background": null,
       "description_width": "",
       "font_size": null,
       "text_color": null
      }
     },
     "fcdedb65817d4291922aeb9e9e83386a": {
      "model_module": "@jupyter-widgets/controls",
      "model_module_version": "2.0.0",
      "model_name": "FloatProgressModel",
      "state": {
       "_dom_classes": [],
       "_model_module": "@jupyter-widgets/controls",
       "_model_module_version": "2.0.0",
       "_model_name": "FloatProgressModel",
       "_view_count": null,
       "_view_module": "@jupyter-widgets/controls",
       "_view_module_version": "2.0.0",
       "_view_name": "ProgressView",
       "bar_style": "success",
       "description": "",
       "description_allow_html": false,
       "layout": "IPY_MODEL_167d2de8aeca45fb861524d761201867",
       "max": 100.0,
       "min": 0.0,
       "orientation": "horizontal",
       "style": "IPY_MODEL_7ee6e43584854e85859b5615bf9efa83",
       "tabbable": null,
       "tooltip": null,
       "value": 100.0
      }
     }
    },
    "version_major": 2,
    "version_minor": 0
   }
  }
 },
 "nbformat": 4,
 "nbformat_minor": 4
}
