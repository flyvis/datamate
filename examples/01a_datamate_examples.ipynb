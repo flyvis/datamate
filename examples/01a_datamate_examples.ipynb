{
 "cells": [
  {
   "cell_type": "markdown",
   "metadata": {},
   "source": [
    "# `datamate` Examples"
   ]
  },
  {
   "cell_type": "markdown",
   "metadata": {},
   "source": [
    "Basic examples demonstrating `datamate` functionality.\n",
    "\n",
    "<div style=\"position: relative; display: inline-block;\">\n",
    "    <img src=\"https://upload.wikimedia.org/wikipedia/commons/thumb/8/8c/Brainbow_%28Smith_2007%29.jpg/715px-Brainbow_%28Smith_2007%29.jpg\" alt=\"Brainbow (Smith 2007)\" style=\"max-width: 100%; height: auto;\">\n",
    "    <div style=\"font-size: 12px; color: #555; margin-top: 5px;\">\n",
    "        Image: \"Mouse neurons labeled with fluorescent tags\" by Stephen J Smith (2007), licensed under \n",
    "        <a href=\"https://creativecommons.org/licenses/by/3.0/\" target=\"_blank\" style=\"color: #007BFF;\">CC BY 3.0</a>.\n",
    "    </div>\n",
    "</div>"
   ]
  },
  {
   "cell_type": "markdown",
   "metadata": {},
   "source": [
    "## Filesystem as memory"
   ]
  },
  {
   "cell_type": "code",
   "execution_count": null,
   "metadata": {
    "execution": {
     "iopub.execute_input": "2025-01-27T10:42:51.372692Z",
     "iopub.status.busy": "2025-01-27T10:42:51.372403Z",
     "iopub.status.idle": "2025-01-27T10:42:51.938887Z",
     "shell.execute_reply": "2025-01-27T10:42:51.938586Z"
    }
   },
   "outputs": [],
   "source": [
    "from pathlib import Path\n",
    "import numpy as np\n",
    "import matplotlib.pyplot as plt\n",
    "\n",
    "from datamate import Directory, set_root_dir\n",
    "\n",
    "%load_ext autoreload\n",
    "%autoreload 2"
   ]
  },
  {
   "cell_type": "code",
   "execution_count": null,
   "metadata": {
    "execution": {
     "iopub.execute_input": "2025-01-27T10:42:51.940247Z",
     "iopub.status.busy": "2025-01-27T10:42:51.940137Z",
     "iopub.status.idle": "2025-01-27T10:42:51.945093Z",
     "shell.execute_reply": "2025-01-27T10:42:51.944863Z"
    }
   },
   "outputs": [],
   "source": [
    "# we set the root directory\n",
    "root_dir = Path(\".\") / \"data\"\n",
    "set_root_dir(root_dir)"
   ]
  },
  {
   "cell_type": "code",
   "execution_count": null,
   "metadata": {
    "execution": {
     "iopub.execute_input": "2025-01-27T10:42:51.946219Z",
     "iopub.status.busy": "2025-01-27T10:42:51.946148Z",
     "iopub.status.idle": "2025-01-27T10:42:51.955652Z",
     "shell.execute_reply": "2025-01-27T10:42:51.955452Z"
    }
   },
   "outputs": [],
   "source": [
    "# we erase data from earlier execution of this notebook -- ignore this cell\n",
    "if root_dir.exists():\n",
    "    import shutil\n",
    "\n",
    "    shutil.rmtree(root_dir)"
   ]
  },
  {
   "cell_type": "code",
   "execution_count": null,
   "metadata": {
    "execution": {
     "iopub.execute_input": "2025-01-27T10:42:51.956780Z",
     "iopub.status.busy": "2025-01-27T10:42:51.956714Z",
     "iopub.status.idle": "2025-01-27T10:42:51.965719Z",
     "shell.execute_reply": "2025-01-27T10:42:51.965552Z"
    }
   },
   "outputs": [],
   "source": [
    "# we create a Directory instance\n",
    "cell_measurements = Directory()\n",
    "cell_measurements"
   ]
  },
  {
   "cell_type": "markdown",
   "metadata": {},
   "source": [
    "We 'measure' cell attributes: identity, x- and y-coordinates, and colors."
   ]
  },
  {
   "cell_type": "code",
   "execution_count": null,
   "metadata": {
    "execution": {
     "iopub.execute_input": "2025-01-27T10:42:51.980262Z",
     "iopub.status.busy": "2025-01-27T10:42:51.980188Z",
     "iopub.status.idle": "2025-01-27T10:42:51.997857Z",
     "shell.execute_reply": "2025-01-27T10:42:51.997629Z"
    }
   },
   "outputs": [],
   "source": [
    "# we store data by setting attributes\n",
    "n_cells = 100\n",
    "cell_measurements.cell_id = np.arange(n_cells)\n",
    "cell_measurements.x = np.random.normal(0, 1, size=n_cells)\n",
    "cell_measurements.y = np.random.normal(0, 1, size=n_cells)\n",
    "cell_measurements.colors = np.random.rand(n_cells, 3)"
   ]
  },
  {
   "cell_type": "code",
   "execution_count": null,
   "metadata": {
    "execution": {
     "iopub.execute_input": "2025-01-27T10:42:51.998971Z",
     "iopub.status.busy": "2025-01-27T10:42:51.998890Z",
     "iopub.status.idle": "2025-01-27T10:42:52.006577Z",
     "shell.execute_reply": "2025-01-27T10:42:52.006410Z"
    }
   },
   "outputs": [],
   "source": [
    "# we verify files with the tree-view method\n",
    "# (automatically called)\n",
    "cell_measurements"
   ]
  },
  {
   "cell_type": "code",
   "execution_count": null,
   "metadata": {
    "execution": {
     "iopub.execute_input": "2025-01-27T10:42:52.007584Z",
     "iopub.status.busy": "2025-01-27T10:42:52.007513Z",
     "iopub.status.idle": "2025-01-27T10:42:52.090851Z",
     "shell.execute_reply": "2025-01-27T10:42:52.090641Z"
    }
   },
   "outputs": [],
   "source": [
    "# we access data as attributes\n",
    "plt.scatter(cell_measurements.x, cell_measurements.y, c=cell_measurements.colors, s=10)\n",
    "plt.xlabel(\"cell location in x\")\n",
    "plt.ylabel(\"cell location in y\")\n",
    "plt.title(f\"Locations and colors of {n_cells} cells\")"
   ]
  },
  {
   "cell_type": "code",
   "execution_count": null,
   "metadata": {
    "execution": {
     "iopub.execute_input": "2025-01-27T10:42:52.092046Z",
     "iopub.status.busy": "2025-01-27T10:42:52.091979Z",
     "iopub.status.idle": "2025-01-27T10:42:52.146941Z",
     "shell.execute_reply": "2025-01-27T10:42:52.146738Z"
    }
   },
   "outputs": [],
   "source": [
    "# we index h5-arrays from disk without fully loading them to reduce memory load\n",
    "start_cell_id = 0\n",
    "end_cell_id = 50\n",
    "plt.scatter(\n",
    "    cell_measurements.x[start_cell_id:end_cell_id],\n",
    "    cell_measurements.y[start_cell_id:end_cell_id],\n",
    "    c=cell_measurements.colors[start_cell_id:end_cell_id],\n",
    "    s=10,\n",
    ")\n",
    "plt.xlabel(\"cell location in x\")\n",
    "plt.ylabel(\"cell location in y\")\n",
    "plt.title(f\"Locations and colors of {end_cell_id - start_cell_id} cells\")"
   ]
  },
  {
   "cell_type": "code",
   "execution_count": null,
   "metadata": {
    "execution": {
     "iopub.execute_input": "2025-01-27T10:42:52.148003Z",
     "iopub.status.busy": "2025-01-27T10:42:52.147942Z",
     "iopub.status.idle": "2025-01-27T10:42:52.157851Z",
     "shell.execute_reply": "2025-01-27T10:42:52.157690Z"
    }
   },
   "outputs": [],
   "source": [
    "# we use the directory name to point to the same directory again\n",
    "cell_measurements = Directory(\"Directory_0000\")\n",
    "\n",
    "# works also with specifying the root directory\n",
    "# cell_measurements = Directory(root_dir / \"Directory_0000\")\n",
    "\n",
    "cell_measurements"
   ]
  },
  {
   "cell_type": "markdown",
   "metadata": {},
   "source": [
    "## Hierarchical data organization"
   ]
  },
  {
   "cell_type": "code",
   "execution_count": null,
   "metadata": {
    "execution": {
     "iopub.execute_input": "2025-01-27T10:42:52.158979Z",
     "iopub.status.busy": "2025-01-27T10:42:52.158901Z",
     "iopub.status.idle": "2025-01-27T10:42:52.167076Z",
     "shell.execute_reply": "2025-01-27T10:42:52.166887Z"
    }
   },
   "outputs": [],
   "source": [
    "# we navigate upwards on the filesystem hierarchy\n",
    "cell_measurements.parent"
   ]
  },
  {
   "cell_type": "code",
   "execution_count": null,
   "metadata": {
    "execution": {
     "iopub.execute_input": "2025-01-27T10:42:52.168162Z",
     "iopub.status.busy": "2025-01-27T10:42:52.168098Z",
     "iopub.status.idle": "2025-01-27T10:42:52.176257Z",
     "shell.execute_reply": "2025-01-27T10:42:52.176029Z"
    }
   },
   "outputs": [],
   "source": [
    "# we navigate upwards twice\n",
    "cell_measurements.parent.parent"
   ]
  },
  {
   "cell_type": "code",
   "execution_count": null,
   "metadata": {
    "execution": {
     "iopub.execute_input": "2025-01-27T10:42:52.177258Z",
     "iopub.status.busy": "2025-01-27T10:42:52.177198Z",
     "iopub.status.idle": "2025-01-27T10:42:52.184990Z",
     "shell.execute_reply": "2025-01-27T10:42:52.184815Z"
    }
   },
   "outputs": [],
   "source": [
    "# we create a pointer to a child Directory\n",
    "# (as long as no file/attribute with this name already exists)\n",
    "cell_measurements.connections"
   ]
  },
  {
   "cell_type": "code",
   "execution_count": null,
   "metadata": {
    "execution": {
     "iopub.execute_input": "2025-01-27T10:42:52.185989Z",
     "iopub.status.busy": "2025-01-27T10:42:52.185930Z",
     "iopub.status.idle": "2025-01-27T10:42:52.241944Z",
     "shell.execute_reply": "2025-01-27T10:42:52.241738Z"
    }
   },
   "outputs": [],
   "source": [
    "# we `measure` a random connectivity matrix\n",
    "connectivity_matrix = np.random.randn(n_cells, n_cells) > 2\n",
    "plt.imshow(connectivity_matrix)\n",
    "plt.xlabel(\"postsynaptic cell id\")\n",
    "plt.ylabel(\"presynaptic cell id\")\n",
    "plt.title(\"connectivity matrix\")"
   ]
  },
  {
   "cell_type": "code",
   "execution_count": null,
   "metadata": {
    "execution": {
     "iopub.execute_input": "2025-01-27T10:42:52.243023Z",
     "iopub.status.busy": "2025-01-27T10:42:52.242962Z",
     "iopub.status.idle": "2025-01-27T10:42:52.253387Z",
     "shell.execute_reply": "2025-01-27T10:42:52.253215Z"
    }
   },
   "outputs": [],
   "source": [
    "# we store the connectivity as graph (i.e. edges) because its sparse\n",
    "post_cell_id, pre_cell_id = np.where(connectivity_matrix)\n",
    "cell_measurements.connections.pre_cell_id = pre_cell_id\n",
    "cell_measurements.connections.post_cell_id = post_cell_id"
   ]
  },
  {
   "cell_type": "code",
   "execution_count": null,
   "metadata": {
    "execution": {
     "iopub.execute_input": "2025-01-27T10:42:52.254463Z",
     "iopub.status.busy": "2025-01-27T10:42:52.254391Z",
     "iopub.status.idle": "2025-01-27T10:42:52.262573Z",
     "shell.execute_reply": "2025-01-27T10:42:52.262411Z"
    }
   },
   "outputs": [],
   "source": [
    "# the connections are now stored in our directory\n",
    "cell_measurements"
   ]
  },
  {
   "cell_type": "code",
   "execution_count": null,
   "metadata": {
    "execution": {
     "iopub.execute_input": "2025-01-27T10:42:52.263638Z",
     "iopub.status.busy": "2025-01-27T10:42:52.263570Z",
     "iopub.status.idle": "2025-01-27T10:42:52.271814Z",
     "shell.execute_reply": "2025-01-27T10:42:52.271637Z"
    }
   },
   "outputs": [],
   "source": [
    "# we access them later from the same directory\n",
    "cell_measurements.connections"
   ]
  },
  {
   "cell_type": "code",
   "execution_count": null,
   "metadata": {
    "execution": {
     "iopub.execute_input": "2025-01-27T10:42:52.272829Z",
     "iopub.status.busy": "2025-01-27T10:42:52.272772Z",
     "iopub.status.idle": "2025-01-27T10:42:52.279369Z",
     "shell.execute_reply": "2025-01-27T10:42:52.279188Z"
    }
   },
   "outputs": [],
   "source": [
    "# with attribute-style access to the h5-array\n",
    "cell_measurements.connections.pre_cell_id[:]"
   ]
  },
  {
   "cell_type": "code",
   "execution_count": null,
   "metadata": {
    "execution": {
     "iopub.execute_input": "2025-01-27T10:42:52.280399Z",
     "iopub.status.busy": "2025-01-27T10:42:52.280338Z",
     "iopub.status.idle": "2025-01-27T10:42:52.286073Z",
     "shell.execute_reply": "2025-01-27T10:42:52.285911Z"
    }
   },
   "outputs": [],
   "source": [
    "# or composing strings following the pathlib syntax for your preference\n",
    "(cell_measurements / \"connections/pre_cell_id\")[:]"
   ]
  },
  {
   "cell_type": "markdown",
   "metadata": {},
   "source": [
    "## Configuration-based compilation of data\n",
    "\n",
    "We wrap up the code above into a coherent object that can be configured and compiled to a `Directory`."
   ]
  },
  {
   "cell_type": "code",
   "execution_count": null,
   "metadata": {
    "execution": {
     "iopub.execute_input": "2025-01-27T10:42:52.287129Z",
     "iopub.status.busy": "2025-01-27T10:42:52.287057Z",
     "iopub.status.idle": "2025-01-27T10:42:52.293362Z",
     "shell.execute_reply": "2025-01-27T10:42:52.293187Z"
    }
   },
   "outputs": [],
   "source": [
    "from time import sleep\n",
    "from pathlib import Path\n",
    "import numpy as np\n",
    "import matplotlib.pyplot as plt\n",
    "\n",
    "from datamate import Directory, root\n",
    "\n",
    "data_dir = Path(\".\") / \"data\"\n",
    "\n",
    "\n",
    "@root(data_dir)  # this optional decorator defines the root directory\n",
    "class CellMeasurements(Directory):\n",
    "\n",
    "    def __init__(self, n_cells=100, seed=0):\n",
    "        print(\"Loading connectome ...\")\n",
    "        sleep(5)\n",
    "        np.random.seed(seed)\n",
    "\n",
    "        # store cell attributes\n",
    "        self.cell_id = np.arange(n_cells)\n",
    "        self.x = np.random.normal(0, 1, size=n_cells)\n",
    "        self.y = np.random.normal(0, 1, size=n_cells)\n",
    "        self.colors = np.random.rand(n_cells, 3)\n",
    "\n",
    "        # store connectivity attributes\n",
    "        connectivity_matrix = np.random.randn(n_cells, n_cells)\n",
    "        pre_cell_id, post_cell_id = np.where(connectivity_matrix > 2)\n",
    "        self.connections.pre_cell_id = pre_cell_id\n",
    "        self.connections.post_cell_id = post_cell_id\n",
    "        print(\"Stored connectome!\")"
   ]
  },
  {
   "cell_type": "code",
   "execution_count": null,
   "metadata": {
    "execution": {
     "iopub.execute_input": "2025-01-27T10:42:52.294419Z",
     "iopub.status.busy": "2025-01-27T10:42:52.294363Z",
     "iopub.status.idle": "2025-01-27T10:42:57.348026Z",
     "shell.execute_reply": "2025-01-27T10:42:57.347542Z"
    }
   },
   "outputs": [],
   "source": [
    "# we init 'CellMeasurements'\n",
    "# __init__ is only run if a directory of this type and config does not yet exist\n",
    "cell_measurements = CellMeasurements()"
   ]
  },
  {
   "cell_type": "code",
   "execution_count": null,
   "metadata": {
    "execution": {
     "iopub.execute_input": "2025-01-27T10:42:57.353197Z",
     "iopub.status.busy": "2025-01-27T10:42:57.353057Z",
     "iopub.status.idle": "2025-01-27T10:42:57.371549Z",
     "shell.execute_reply": "2025-01-27T10:42:57.371301Z"
    }
   },
   "outputs": [],
   "source": [
    "# we verify contents written by __init__\n",
    "cell_measurements"
   ]
  },
  {
   "cell_type": "code",
   "execution_count": null,
   "metadata": {
    "execution": {
     "iopub.execute_input": "2025-01-27T10:42:57.372843Z",
     "iopub.status.busy": "2025-01-27T10:42:57.372750Z",
     "iopub.status.idle": "2025-01-27T10:42:57.381668Z",
     "shell.execute_reply": "2025-01-27T10:42:57.381441Z"
    }
   },
   "outputs": [],
   "source": [
    "# we verify config written by __init__\n",
    "cell_measurements.meta"
   ]
  },
  {
   "cell_type": "code",
   "execution_count": null,
   "metadata": {
    "execution": {
     "iopub.execute_input": "2025-01-27T10:42:57.382905Z",
     "iopub.status.busy": "2025-01-27T10:42:57.382823Z",
     "iopub.status.idle": "2025-01-27T10:43:02.422408Z",
     "shell.execute_reply": "2025-01-27T10:43:02.422132Z"
    }
   },
   "outputs": [],
   "source": [
    "# we change the seed\n",
    "# we automatically get a second directory of the same type (but with different data)\n",
    "cell_measurements_2 = CellMeasurements(n_cells=100, seed=42)"
   ]
  },
  {
   "cell_type": "code",
   "execution_count": null,
   "metadata": {
    "execution": {
     "iopub.execute_input": "2025-01-27T10:43:02.423980Z",
     "iopub.status.busy": "2025-01-27T10:43:02.423861Z",
     "iopub.status.idle": "2025-01-27T10:43:02.436060Z",
     "shell.execute_reply": "2025-01-27T10:43:02.435808Z"
    }
   },
   "outputs": [],
   "source": [
    "# we verify contents written by __init__\n",
    "cell_measurements_2"
   ]
  },
  {
   "cell_type": "code",
   "execution_count": null,
   "metadata": {
    "execution": {
     "iopub.execute_input": "2025-01-27T10:43:02.437349Z",
     "iopub.status.busy": "2025-01-27T10:43:02.437260Z",
     "iopub.status.idle": "2025-01-27T10:43:02.444368Z",
     "shell.execute_reply": "2025-01-27T10:43:02.444171Z"
    }
   },
   "outputs": [],
   "source": [
    "# we verify config written by __init__\n",
    "cell_measurements_2.meta"
   ]
  },
  {
   "cell_type": "markdown",
   "metadata": {},
   "source": [
    "## Memory persistence\n",
    "\n",
    "We restart the kernel and retrieve the data quickly later, using the same code and without recomputing."
   ]
  },
  {
   "cell_type": "code",
   "execution_count": null,
   "metadata": {
    "execution": {
     "iopub.execute_input": "2025-01-27T10:43:02.445598Z",
     "iopub.status.busy": "2025-01-27T10:43:02.445518Z",
     "iopub.status.idle": "2025-01-27T10:43:02.452462Z",
     "shell.execute_reply": "2025-01-27T10:43:02.452266Z"
    }
   },
   "outputs": [],
   "source": [
    "from time import sleep\n",
    "from pathlib import Path\n",
    "import numpy as np\n",
    "import matplotlib.pyplot as plt\n",
    "\n",
    "from datamate import Directory, root\n",
    "\n",
    "data_dir = Path(\".\") / \"data\"\n",
    "\n",
    "\n",
    "@root(data_dir)\n",
    "class CellMeasurements(Directory):\n",
    "\n",
    "    def __init__(self, n_cells=100, seed=0):\n",
    "        print(\"Loading connectome ...\")\n",
    "        sleep(5)\n",
    "        np.random.seed(seed)\n",
    "\n",
    "        # store cell attributes\n",
    "        self.cell_id = np.arange(n_cells)\n",
    "        self.x = np.random.normal(0, 1, size=n_cells)\n",
    "        self.y = np.random.normal(0, 1, size=n_cells)\n",
    "        self.colors = np.random.rand(n_cells, 3)\n",
    "\n",
    "        # store connectivity attributes\n",
    "        connectivity_matrix = np.random.randn(n_cells, n_cells)\n",
    "        pre_cell_id, post_cell_id = np.where(connectivity_matrix > 2)\n",
    "        self.connections.pre_cell_id = pre_cell_id\n",
    "        self.connections.post_cell_id = post_cell_id\n",
    "        print(\"Stored connectome!\")"
   ]
  },
  {
   "cell_type": "code",
   "execution_count": null,
   "metadata": {
    "execution": {
     "iopub.execute_input": "2025-01-27T10:43:02.453539Z",
     "iopub.status.busy": "2025-01-27T10:43:02.453478Z",
     "iopub.status.idle": "2025-01-27T10:43:02.461008Z",
     "shell.execute_reply": "2025-01-27T10:43:02.460788Z"
    }
   },
   "outputs": [],
   "source": [
    "# fast init because points to the directories with the same type and configuration\n",
    "cell_measurements = CellMeasurements(n_cells=100, seed=0)\n",
    "cell_measurements_2 = CellMeasurements(n_cells=100, seed=42)"
   ]
  },
  {
   "cell_type": "code",
   "execution_count": null,
   "metadata": {
    "execution": {
     "iopub.execute_input": "2025-01-27T10:43:02.462128Z",
     "iopub.status.busy": "2025-01-27T10:43:02.462067Z",
     "iopub.status.idle": "2025-01-27T10:43:02.468050Z",
     "shell.execute_reply": "2025-01-27T10:43:02.467868Z"
    }
   },
   "outputs": [],
   "source": [
    "cell_measurements.config"
   ]
  },
  {
   "cell_type": "code",
   "execution_count": null,
   "metadata": {
    "execution": {
     "iopub.execute_input": "2025-01-27T10:43:02.469111Z",
     "iopub.status.busy": "2025-01-27T10:43:02.469057Z",
     "iopub.status.idle": "2025-01-27T10:43:02.474816Z",
     "shell.execute_reply": "2025-01-27T10:43:02.474643Z"
    }
   },
   "outputs": [],
   "source": [
    "cell_measurements_2.config"
   ]
  },
  {
   "cell_type": "markdown",
   "metadata": {},
   "source": [
    "### Pandas integration"
   ]
  },
  {
   "cell_type": "markdown",
   "metadata": {},
   "source": [
    "We load the h5 data to a pandas dataframe for further processing."
   ]
  },
  {
   "cell_type": "code",
   "execution_count": null,
   "metadata": {
    "execution": {
     "iopub.execute_input": "2025-01-27T10:43:02.475873Z",
     "iopub.status.busy": "2025-01-27T10:43:02.475822Z",
     "iopub.status.idle": "2025-01-27T10:43:02.488563Z",
     "shell.execute_reply": "2025-01-27T10:43:02.488360Z"
    }
   },
   "outputs": [],
   "source": [
    "cells = cell_measurements.to_df()\n",
    "connections = cell_measurements.connections.to_df()"
   ]
  },
  {
   "cell_type": "code",
   "execution_count": null,
   "metadata": {
    "execution": {
     "iopub.execute_input": "2025-01-27T10:43:02.489652Z",
     "iopub.status.busy": "2025-01-27T10:43:02.489581Z",
     "iopub.status.idle": "2025-01-27T10:43:02.501267Z",
     "shell.execute_reply": "2025-01-27T10:43:02.501099Z"
    }
   },
   "outputs": [],
   "source": [
    "cells"
   ]
  },
  {
   "cell_type": "code",
   "execution_count": null,
   "metadata": {
    "execution": {
     "iopub.execute_input": "2025-01-27T10:43:02.502233Z",
     "iopub.status.busy": "2025-01-27T10:43:02.502166Z",
     "iopub.status.idle": "2025-01-27T10:43:02.508278Z",
     "shell.execute_reply": "2025-01-27T10:43:02.508125Z"
    }
   },
   "outputs": [],
   "source": [
    "connections"
   ]
  },
  {
   "cell_type": "markdown",
   "metadata": {},
   "source": [
    "We load the meta data into a pandas dataframe."
   ]
  },
  {
   "cell_type": "code",
   "execution_count": null,
   "metadata": {
    "execution": {
     "iopub.execute_input": "2025-01-27T10:43:02.509307Z",
     "iopub.status.busy": "2025-01-27T10:43:02.509230Z",
     "iopub.status.idle": "2025-01-27T10:43:02.515802Z",
     "shell.execute_reply": "2025-01-27T10:43:02.515648Z"
    }
   },
   "outputs": [],
   "source": [
    "cell_measurements.meta.to_df(name=\"measurements 1\")"
   ]
  },
  {
   "cell_type": "code",
   "execution_count": null,
   "metadata": {
    "execution": {
     "iopub.execute_input": "2025-01-27T10:43:02.516740Z",
     "iopub.status.busy": "2025-01-27T10:43:02.516677Z",
     "iopub.status.idle": "2025-01-27T10:43:02.522657Z",
     "shell.execute_reply": "2025-01-27T10:43:02.522507Z"
    }
   },
   "outputs": [],
   "source": [
    "cell_measurements_2.meta.to_df(name=\"measurements 2\")"
   ]
  },
  {
   "cell_type": "markdown",
   "metadata": {},
   "source": [
    "We tabularize experiment configurations."
   ]
  },
  {
   "cell_type": "code",
   "execution_count": null,
   "metadata": {
    "execution": {
     "iopub.execute_input": "2025-01-27T10:43:02.523631Z",
     "iopub.status.busy": "2025-01-27T10:43:02.523574Z",
     "iopub.status.idle": "2025-01-27T10:43:02.532163Z",
     "shell.execute_reply": "2025-01-27T10:43:02.532003Z"
    }
   },
   "outputs": [],
   "source": [
    "configs = cell_measurements.meta.to_df(name=\"measurements 1\").join(\n",
    "    cell_measurements_2.meta.to_df(name=\"measurements 2\")\n",
    ")\n",
    "configs"
   ]
  },
  {
   "cell_type": "markdown",
   "metadata": {},
   "source": [
    "Or, vice versa, we create a directory from a pandas DataFrame (note, must provide [h5py compatible type information](https://docs.h5py.org/en/stable/faq.html)):"
   ]
  },
  {
   "cell_type": "code",
   "execution_count": null,
   "metadata": {
    "execution": {
     "iopub.execute_input": "2025-01-27T10:43:02.533155Z",
     "iopub.status.busy": "2025-01-27T10:43:02.533088Z",
     "iopub.status.idle": "2025-01-27T10:43:02.538478Z",
     "shell.execute_reply": "2025-01-27T10:43:02.538317Z"
    }
   },
   "outputs": [],
   "source": [
    "configs"
   ]
  },
  {
   "cell_type": "code",
   "execution_count": null,
   "metadata": {
    "execution": {
     "iopub.execute_input": "2025-01-27T10:43:02.539326Z",
     "iopub.status.busy": "2025-01-27T10:43:02.539273Z",
     "iopub.status.idle": "2025-01-27T10:43:02.543854Z",
     "shell.execute_reply": "2025-01-27T10:43:02.543647Z"
    }
   },
   "outputs": [],
   "source": [
    "dtypes = {\"measurements 1\": \"S50\", \"measurements 2\": \"S50\"}"
   ]
  },
  {
   "cell_type": "code",
   "execution_count": null,
   "metadata": {
    "execution": {
     "iopub.execute_input": "2025-01-27T10:43:02.544757Z",
     "iopub.status.busy": "2025-01-27T10:43:02.544703Z",
     "iopub.status.idle": "2025-01-27T10:43:02.552501Z",
     "shell.execute_reply": "2025-01-27T10:43:02.552273Z"
    }
   },
   "outputs": [],
   "source": [
    "# we create a directory from the dataframe of configs\n",
    "directory = Directory.from_df(configs, dtypes, \"experiments_config\")"
   ]
  },
  {
   "cell_type": "code",
   "execution_count": null,
   "metadata": {
    "execution": {
     "iopub.execute_input": "2025-01-27T10:43:02.553473Z",
     "iopub.status.busy": "2025-01-27T10:43:02.553407Z",
     "iopub.status.idle": "2025-01-27T10:43:02.560735Z",
     "shell.execute_reply": "2025-01-27T10:43:02.560598Z"
    }
   },
   "outputs": [],
   "source": [
    "directory"
   ]
  },
  {
   "cell_type": "code",
   "execution_count": null,
   "metadata": {
    "execution": {
     "iopub.execute_input": "2025-01-27T10:43:02.561641Z",
     "iopub.status.busy": "2025-01-27T10:43:02.561580Z",
     "iopub.status.idle": "2025-01-27T10:43:02.568184Z",
     "shell.execute_reply": "2025-01-27T10:43:02.568034Z"
    }
   },
   "outputs": [],
   "source": [
    "directory.to_df(dtypes={\"measurements 1\": str, \"measurements 2\": str})"
   ]
  },
  {
   "cell_type": "markdown",
   "metadata": {},
   "source": [
    "Alternatively, we seamlessly store and retrieve dataframes via csv files."
   ]
  },
  {
   "cell_type": "code",
   "execution_count": null,
   "metadata": {
    "execution": {
     "iopub.execute_input": "2025-01-27T10:43:02.569192Z",
     "iopub.status.busy": "2025-01-27T10:43:02.569130Z",
     "iopub.status.idle": "2025-01-27T10:43:02.578803Z",
     "shell.execute_reply": "2025-01-27T10:43:02.578597Z"
    }
   },
   "outputs": [],
   "source": [
    "directory.cells = cell_measurements.to_df()\n",
    "directory.connections = connections"
   ]
  },
  {
   "cell_type": "code",
   "execution_count": null,
   "metadata": {
    "execution": {
     "iopub.execute_input": "2025-01-27T10:43:02.579745Z",
     "iopub.status.busy": "2025-01-27T10:43:02.579686Z",
     "iopub.status.idle": "2025-01-27T10:43:02.587405Z",
     "shell.execute_reply": "2025-01-27T10:43:02.587235Z"
    }
   },
   "outputs": [],
   "source": [
    "# we verify the dataframes\n",
    "directory.cells"
   ]
  },
  {
   "cell_type": "code",
   "execution_count": null,
   "metadata": {
    "execution": {
     "iopub.execute_input": "2025-01-27T10:43:02.588379Z",
     "iopub.status.busy": "2025-01-27T10:43:02.588304Z",
     "iopub.status.idle": "2025-01-27T10:43:02.594571Z",
     "shell.execute_reply": "2025-01-27T10:43:02.594410Z"
    }
   },
   "outputs": [],
   "source": [
    "directory.connections"
   ]
  },
  {
   "cell_type": "code",
   "execution_count": null,
   "metadata": {
    "execution": {
     "iopub.execute_input": "2025-01-27T10:43:02.595511Z",
     "iopub.status.busy": "2025-01-27T10:43:02.595444Z",
     "iopub.status.idle": "2025-01-27T10:43:02.608670Z",
     "shell.execute_reply": "2025-01-27T10:43:02.608449Z"
    }
   },
   "outputs": [],
   "source": [
    "# we extend the dataframes\n",
    "directory.extend(\"cells\", cell_measurements_2.to_df())\n",
    "directory.extend(\"connections\", cell_measurements_2.connections.to_df())"
   ]
  },
  {
   "cell_type": "code",
   "execution_count": null,
   "metadata": {
    "execution": {
     "iopub.execute_input": "2025-01-27T10:43:02.609716Z",
     "iopub.status.busy": "2025-01-27T10:43:02.609649Z",
     "iopub.status.idle": "2025-01-27T10:43:02.616372Z",
     "shell.execute_reply": "2025-01-27T10:43:02.616231Z"
    }
   },
   "outputs": [],
   "source": [
    "# we verify the dataframes\n",
    "directory.cells"
   ]
  },
  {
   "cell_type": "code",
   "execution_count": null,
   "metadata": {
    "execution": {
     "iopub.execute_input": "2025-01-27T10:43:02.617334Z",
     "iopub.status.busy": "2025-01-27T10:43:02.617266Z",
     "iopub.status.idle": "2025-01-27T10:43:02.623212Z",
     "shell.execute_reply": "2025-01-27T10:43:02.623044Z"
    }
   },
   "outputs": [],
   "source": [
    "# we verify the dataframes\n",
    "directory.connections"
   ]
  },
  {
   "cell_type": "markdown",
   "metadata": {},
   "source": [
    "### Example: visualize the graph"
   ]
  },
  {
   "cell_type": "code",
   "execution_count": null,
   "metadata": {
    "execution": {
     "iopub.execute_input": "2025-01-27T10:43:02.624252Z",
     "iopub.status.busy": "2025-01-27T10:43:02.624197Z",
     "iopub.status.idle": "2025-01-27T10:43:02.629897Z",
     "shell.execute_reply": "2025-01-27T10:43:02.629681Z"
    }
   },
   "outputs": [],
   "source": [
    "def visualize_measurements(cell_measurements):\n",
    "    try:\n",
    "        import networkx as nx\n",
    "    except ModuleNotFoundError as e:\n",
    "        print(e, \", install networkx to visualize the cell graph structure.\")\n",
    "        _input = input(\"install now? yes/no\")\n",
    "        if _input == \"yes\":\n",
    "            import sys\n",
    "            !{sys.executable} -m pip install networkx\n",
    "            import networkx as nx\n",
    "        else:\n",
    "            return\n",
    "        \n",
    "    cells = cell_measurements.to_df()\n",
    "    connections = cell_measurements.connections.to_df()\n",
    "        \n",
    "    G = nx.Graph()\n",
    "    G.add_nodes_from(cells.cell_id)\n",
    "    G.add_edges_from(connections.values)\n",
    "    pos = dict(zip(cells[\"cell_id\"].values, cells[[\"x\", \"y\"]].values))\n",
    "\n",
    "    options = {\n",
    "        \"font_size\": 4,\n",
    "        \"node_size\": 10,\n",
    "        \"node_color\": cell_measurements.colors[:],\n",
    "        \"edgecolors\": \"0.5\",\n",
    "        \"linewidths\": 0.25,\n",
    "        \"width\": 0.25,\n",
    "    }\n",
    "    nx.draw_networkx(G, pos, **options)"
   ]
  },
  {
   "cell_type": "code",
   "execution_count": null,
   "metadata": {
    "execution": {
     "iopub.execute_input": "2025-01-27T10:43:02.630889Z",
     "iopub.status.busy": "2025-01-27T10:43:02.630832Z",
     "iopub.status.idle": "2025-01-27T10:43:02.845720Z",
     "shell.execute_reply": "2025-01-27T10:43:02.845510Z"
    }
   },
   "outputs": [],
   "source": [
    "visualize_measurements(cell_measurements)"
   ]
  },
  {
   "cell_type": "code",
   "execution_count": null,
   "metadata": {
    "execution": {
     "iopub.execute_input": "2025-01-27T10:43:02.847186Z",
     "iopub.status.busy": "2025-01-27T10:43:02.847061Z",
     "iopub.status.idle": "2025-01-27T10:43:02.937541Z",
     "shell.execute_reply": "2025-01-27T10:43:02.937340Z"
    }
   },
   "outputs": [],
   "source": [
    "visualize_measurements(cell_measurements_2)"
   ]
  },
  {
   "cell_type": "markdown",
   "metadata": {},
   "source": [
    "## Configuration comparison and diffing"
   ]
  },
  {
   "cell_type": "code",
   "execution_count": null,
   "metadata": {
    "execution": {
     "iopub.execute_input": "2025-01-27T10:43:02.939151Z",
     "iopub.status.busy": "2025-01-27T10:43:02.939039Z",
     "iopub.status.idle": "2025-01-27T10:43:02.947605Z",
     "shell.execute_reply": "2025-01-27T10:43:02.947416Z"
    }
   },
   "outputs": [],
   "source": [
    "# we compare how the `measurements` differ in their configuration\n",
    "# (this works with complex nested configurations too)\n",
    "cell_measurements.meta.diff(cell_measurements_2.meta)"
   ]
  },
  {
   "cell_type": "markdown",
   "metadata": {},
   "source": [
    "## Directory structure visualization (tree view)"
   ]
  },
  {
   "cell_type": "code",
   "execution_count": null,
   "metadata": {
    "execution": {
     "iopub.execute_input": "2025-01-27T10:43:02.948764Z",
     "iopub.status.busy": "2025-01-27T10:43:02.948702Z",
     "iopub.status.idle": "2025-01-27T10:43:02.954791Z",
     "shell.execute_reply": "2025-01-27T10:43:02.954590Z"
    }
   },
   "outputs": [],
   "source": [
    "from datamate import Directory, set_verbosity_level\n",
    "\n",
    "data_dir = Path(\".\") / \"data\""
   ]
  },
  {
   "cell_type": "code",
   "execution_count": null,
   "metadata": {
    "execution": {
     "iopub.execute_input": "2025-01-27T10:43:02.955919Z",
     "iopub.status.busy": "2025-01-27T10:43:02.955845Z",
     "iopub.status.idle": "2025-01-27T10:43:02.965167Z",
     "shell.execute_reply": "2025-01-27T10:43:02.964985Z"
    }
   },
   "outputs": [],
   "source": [
    "# default: we display 2 levels of the hierarchy and 25 lines\n",
    "set_verbosity_level(1)\n",
    "Directory(data_dir)"
   ]
  },
  {
   "cell_type": "code",
   "execution_count": null,
   "metadata": {
    "execution": {
     "iopub.execute_input": "2025-01-27T10:43:02.966233Z",
     "iopub.status.busy": "2025-01-27T10:43:02.966171Z",
     "iopub.status.idle": "2025-01-27T10:43:02.975791Z",
     "shell.execute_reply": "2025-01-27T10:43:02.975615Z"
    }
   },
   "outputs": [],
   "source": [
    "# we display all subdirectories and files\n",
    "set_verbosity_level(2)\n",
    "Directory(data_dir)"
   ]
  },
  {
   "cell_type": "code",
   "execution_count": null,
   "metadata": {
    "execution": {
     "iopub.execute_input": "2025-01-27T10:43:02.976806Z",
     "iopub.status.busy": "2025-01-27T10:43:02.976744Z",
     "iopub.status.idle": "2025-01-27T10:43:02.985778Z",
     "shell.execute_reply": "2025-01-27T10:43:02.985598Z"
    }
   },
   "outputs": [],
   "source": [
    "# we display referenced folder and last modified date\n",
    "set_verbosity_level(0)\n",
    "Directory(data_dir)"
   ]
  },
  {
   "cell_type": "code",
   "execution_count": null,
   "metadata": {
    "execution": {
     "iopub.execute_input": "2025-01-27T10:43:02.986837Z",
     "iopub.status.busy": "2025-01-27T10:43:02.986773Z",
     "iopub.status.idle": "2025-01-27T10:43:02.992742Z",
     "shell.execute_reply": "2025-01-27T10:43:02.992562Z"
    }
   },
   "outputs": [],
   "source": [
    "set_verbosity_level(2)"
   ]
  },
  {
   "cell_type": "markdown",
   "metadata": {},
   "source": [
    "## Parallel read/write operations\n",
    "\n",
    "We start the training loop by running the cells below.\n",
    "\n",
    "We run the jupyter notebook `01b_parallel_read_and_write.ipynb` to see how data is simultaneously written and read to the loss.h5 file."
   ]
  },
  {
   "cell_type": "code",
   "execution_count": null,
   "metadata": {
    "execution": {
     "iopub.execute_input": "2025-01-27T10:43:02.993819Z",
     "iopub.status.busy": "2025-01-27T10:43:02.993764Z",
     "iopub.status.idle": "2025-01-27T10:43:03.030846Z",
     "shell.execute_reply": "2025-01-27T10:43:03.030647Z"
    }
   },
   "outputs": [],
   "source": [
    "from tqdm.auto import tqdm\n",
    "from time import sleep\n",
    "from pathlib import Path\n",
    "import numpy as np\n",
    "import matplotlib.pyplot as plt\n",
    "\n",
    "from datamate import Directory, root\n",
    "\n",
    "data_dir = Path(\".\") / \"data\"\n",
    "\n",
    "\n",
    "@root(data_dir)\n",
    "class NetworkDir(Directory):\n",
    "\n",
    "    class Config:\n",
    "        tau: float = 200.0\n",
    "        sigma: float = 0.1\n",
    "\n",
    "    def __init__(self, num_iters: int = 100):\n",
    "        del self.loss\n",
    "        for i in tqdm(range(num_iters), desc=\"Training\"):\n",
    "            self.train_iter(i)\n",
    "\n",
    "    def train_iter(self, iter):\n",
    "        self.extend(\n",
    "            \"loss\",\n",
    "            [np.exp(-iter / self.config.tau) + np.random.rand() * self.config.sigma],\n",
    "        )\n",
    "        sleep(0.25)"
   ]
  },
  {
   "cell_type": "code",
   "execution_count": null,
   "metadata": {
    "execution": {
     "iopub.execute_input": "2025-01-27T10:43:03.032261Z",
     "iopub.status.busy": "2025-01-27T10:43:03.032181Z",
     "iopub.status.idle": "2025-01-27T10:43:29.539569Z",
     "shell.execute_reply": "2025-01-27T10:43:29.538938Z"
    }
   },
   "outputs": [],
   "source": [
    "network_dir = NetworkDir()\n",
    "network_dir"
   ]
  },
  {
   "cell_type": "code",
   "execution_count": null,
   "metadata": {
    "execution": {
     "iopub.execute_input": "2025-01-27T10:43:29.548260Z",
     "iopub.status.busy": "2025-01-27T10:43:29.548057Z",
     "iopub.status.idle": "2025-01-27T10:43:29.655980Z",
     "shell.execute_reply": "2025-01-27T10:43:29.655568Z"
    }
   },
   "outputs": [],
   "source": [
    "plt.plot(network_dir.loss[:])\n",
    "plt.xlabel(\"iteration\")\n",
    "plt.ylabel(\"loss\")\n",
    "plt.title(\"Training loss\")"
   ]
  },
  {
   "cell_type": "code",
   "execution_count": null,
   "metadata": {
    "execution": {
     "iopub.execute_input": "2025-01-27T10:43:29.658042Z",
     "iopub.status.busy": "2025-01-27T10:43:29.657870Z",
     "iopub.status.idle": "2025-01-27T10:43:29.674794Z",
     "shell.execute_reply": "2025-01-27T10:43:29.674448Z"
    }
   },
   "outputs": [],
   "source": [
    "# we verify that the directory exists\n",
    "\"NetworkDir_0000\" in Directory(data_dir)"
   ]
  },
  {
   "cell_type": "code",
   "execution_count": null,
   "metadata": {
    "execution": {
     "iopub.execute_input": "2025-01-27T10:43:29.676741Z",
     "iopub.status.busy": "2025-01-27T10:43:29.676589Z",
     "iopub.status.idle": "2025-01-27T10:43:29.689885Z",
     "shell.execute_reply": "2025-01-27T10:43:29.689496Z"
    }
   },
   "outputs": [],
   "source": [
    "# we delete the directory and its contents\n",
    "# network_dir.rmtree(\"y\")"
   ]
  },
  {
   "cell_type": "code",
   "execution_count": null,
   "metadata": {
    "execution": {
     "iopub.execute_input": "2025-01-27T10:43:29.692059Z",
     "iopub.status.busy": "2025-01-27T10:43:29.691892Z",
     "iopub.status.idle": "2025-01-27T10:43:29.725998Z",
     "shell.execute_reply": "2025-01-27T10:43:29.714528Z"
    }
   },
   "outputs": [],
   "source": [
    "# we verify that the directory is deleted\n",
    "# \"NetworkDir_0000\" in Directory(data_dir)"
   ]
  }
 ],
 "metadata": {
  "kernelspec": {
   "display_name": "Python 3 (ipykernel)",
   "language": "python",
   "name": "python3"
  },
  "language_info": {
   "codemirror_mode": {
    "name": "ipython",
    "version": 3
   },
   "file_extension": ".py",
   "mimetype": "text/x-python",
   "name": "python",
   "nbconvert_exporter": "python",
   "pygments_lexer": "ipython3",
   "version": "3.12.2"
  },
  "toc": {
   "base_numbering": 1,
   "nav_menu": {},
   "number_sections": true,
   "sideBar": true,
   "skip_h1_title": false,
   "title_cell": "Table of Contents",
   "title_sidebar": "Contents",
   "toc_cell": false,
   "toc_position": {
    "height": "calc(100% - 180px)",
    "left": "10px",
    "top": "150px",
    "width": "370px"
   },
   "toc_section_display": true,
   "toc_window_display": false
  },
  "varInspector": {
   "cols": {
    "lenName": 16,
    "lenType": 16,
    "lenVar": 40
   },
   "kernels_config": {
    "python": {
     "delete_cmd_postfix": "",
     "delete_cmd_prefix": "del ",
     "library": "var_list.py",
     "varRefreshCmd": "print(var_dic_list())"
    },
    "r": {
     "delete_cmd_postfix": ") ",
     "delete_cmd_prefix": "rm(",
     "library": "var_list.r",
     "varRefreshCmd": "cat(var_dic_list()) "
    }
   },
   "types_to_exclude": [
    "module",
    "function",
    "builtin_function_or_method",
    "instance",
    "_Feature"
   ],
   "window_display": false
  },
  "widgets": {
   "application/vnd.jupyter.widget-state+json": {
    "state": {
     "0adff89eb45842a29f66541cb26ad60b": {
      "model_module": "@jupyter-widgets/controls",
      "model_module_version": "2.0.0",
      "model_name": "HTMLModel",
      "state": {
       "_dom_classes": [],
       "_model_module": "@jupyter-widgets/controls",
       "_model_module_version": "2.0.0",
       "_model_name": "HTMLModel",
       "_view_count": null,
       "_view_module": "@jupyter-widgets/controls",
       "_view_module_version": "2.0.0",
       "_view_name": "HTMLView",
       "description": "",
       "description_allow_html": false,
       "layout": "IPY_MODEL_db506f00354f45fe991f6bf168e35571",
       "placeholder": "​",
       "style": "IPY_MODEL_55b8b07be8b94c829b63898cffdbf398",
       "tabbable": null,
       "tooltip": null,
       "value": " 100/100 [00:26&lt;00:00,  3.77it/s]"
      }
     },
     "103a99b3d558422d86f641e03d838650": {
      "model_module": "@jupyter-widgets/base",
      "model_module_version": "2.0.0",
      "model_name": "LayoutModel",
      "state": {
       "_model_module": "@jupyter-widgets/base",
       "_model_module_version": "2.0.0",
       "_model_name": "LayoutModel",
       "_view_count": null,
       "_view_module": "@jupyter-widgets/base",
       "_view_module_version": "2.0.0",
       "_view_name": "LayoutView",
       "align_content": null,
       "align_items": null,
       "align_self": null,
       "border_bottom": null,
       "border_left": null,
       "border_right": null,
       "border_top": null,
       "bottom": null,
       "display": null,
       "flex": null,
       "flex_flow": null,
       "grid_area": null,
       "grid_auto_columns": null,
       "grid_auto_flow": null,
       "grid_auto_rows": null,
       "grid_column": null,
       "grid_gap": null,
       "grid_row": null,
       "grid_template_areas": null,
       "grid_template_columns": null,
       "grid_template_rows": null,
       "height": null,
       "justify_content": null,
       "justify_items": null,
       "left": null,
       "margin": null,
       "max_height": null,
       "max_width": null,
       "min_height": null,
       "min_width": null,
       "object_fit": null,
       "object_position": null,
       "order": null,
       "overflow": null,
       "padding": null,
       "right": null,
       "top": null,
       "visibility": null,
       "width": null
      }
     },
     "1a511884317f43649a21348b5d197691": {
      "model_module": "@jupyter-widgets/controls",
      "model_module_version": "2.0.0",
      "model_name": "HTMLModel",
      "state": {
       "_dom_classes": [],
       "_model_module": "@jupyter-widgets/controls",
       "_model_module_version": "2.0.0",
       "_model_name": "HTMLModel",
       "_view_count": null,
       "_view_module": "@jupyter-widgets/controls",
       "_view_module_version": "2.0.0",
       "_view_name": "HTMLView",
       "description": "",
       "description_allow_html": false,
       "layout": "IPY_MODEL_522799e9c3d340ceb7c08d01cb086e95",
       "placeholder": "​",
       "style": "IPY_MODEL_a8dd259eec6b452592da0fb7ac00865a",
       "tabbable": null,
       "tooltip": null,
       "value": "Training: 100%"
      }
     },
     "42f5c4f1bd5740b4bbf0c6e74ceeb3e7": {
      "model_module": "@jupyter-widgets/controls",
      "model_module_version": "2.0.0",
      "model_name": "FloatProgressModel",
      "state": {
       "_dom_classes": [],
       "_model_module": "@jupyter-widgets/controls",
       "_model_module_version": "2.0.0",
       "_model_name": "FloatProgressModel",
       "_view_count": null,
       "_view_module": "@jupyter-widgets/controls",
       "_view_module_version": "2.0.0",
       "_view_name": "ProgressView",
       "bar_style": "success",
       "description": "",
       "description_allow_html": false,
       "layout": "IPY_MODEL_103a99b3d558422d86f641e03d838650",
       "max": 100,
       "min": 0,
       "orientation": "horizontal",
       "style": "IPY_MODEL_a3bc7ee4ddea48cd8aecea570900bada",
       "tabbable": null,
       "tooltip": null,
       "value": 100
      }
     },
     "522799e9c3d340ceb7c08d01cb086e95": {
      "model_module": "@jupyter-widgets/base",
      "model_module_version": "2.0.0",
      "model_name": "LayoutModel",
      "state": {
       "_model_module": "@jupyter-widgets/base",
       "_model_module_version": "2.0.0",
       "_model_name": "LayoutModel",
       "_view_count": null,
       "_view_module": "@jupyter-widgets/base",
       "_view_module_version": "2.0.0",
       "_view_name": "LayoutView",
       "align_content": null,
       "align_items": null,
       "align_self": null,
       "border_bottom": null,
       "border_left": null,
       "border_right": null,
       "border_top": null,
       "bottom": null,
       "display": null,
       "flex": null,
       "flex_flow": null,
       "grid_area": null,
       "grid_auto_columns": null,
       "grid_auto_flow": null,
       "grid_auto_rows": null,
       "grid_column": null,
       "grid_gap": null,
       "grid_row": null,
       "grid_template_areas": null,
       "grid_template_columns": null,
       "grid_template_rows": null,
       "height": null,
       "justify_content": null,
       "justify_items": null,
       "left": null,
       "margin": null,
       "max_height": null,
       "max_width": null,
       "min_height": null,
       "min_width": null,
       "object_fit": null,
       "object_position": null,
       "order": null,
       "overflow": null,
       "padding": null,
       "right": null,
       "top": null,
       "visibility": null,
       "width": null
      }
     },
     "55b8b07be8b94c829b63898cffdbf398": {
      "model_module": "@jupyter-widgets/controls",
      "model_module_version": "2.0.0",
      "model_name": "HTMLStyleModel",
      "state": {
       "_model_module": "@jupyter-widgets/controls",
       "_model_module_version": "2.0.0",
       "_model_name": "HTMLStyleModel",
       "_view_count": null,
       "_view_module": "@jupyter-widgets/base",
       "_view_module_version": "2.0.0",
       "_view_name": "StyleView",
       "background": null,
       "description_width": "",
       "font_size": null,
       "text_color": null
      }
     },
     "a3bc7ee4ddea48cd8aecea570900bada": {
      "model_module": "@jupyter-widgets/controls",
      "model_module_version": "2.0.0",
      "model_name": "ProgressStyleModel",
      "state": {
       "_model_module": "@jupyter-widgets/controls",
       "_model_module_version": "2.0.0",
       "_model_name": "ProgressStyleModel",
       "_view_count": null,
       "_view_module": "@jupyter-widgets/base",
       "_view_module_version": "2.0.0",
       "_view_name": "StyleView",
       "bar_color": null,
       "description_width": ""
      }
     },
     "a4c29a89b5044304832ec69adc5a8e0f": {
      "model_module": "@jupyter-widgets/base",
      "model_module_version": "2.0.0",
      "model_name": "LayoutModel",
      "state": {
       "_model_module": "@jupyter-widgets/base",
       "_model_module_version": "2.0.0",
       "_model_name": "LayoutModel",
       "_view_count": null,
       "_view_module": "@jupyter-widgets/base",
       "_view_module_version": "2.0.0",
       "_view_name": "LayoutView",
       "align_content": null,
       "align_items": null,
       "align_self": null,
       "border_bottom": null,
       "border_left": null,
       "border_right": null,
       "border_top": null,
       "bottom": null,
       "display": null,
       "flex": null,
       "flex_flow": null,
       "grid_area": null,
       "grid_auto_columns": null,
       "grid_auto_flow": null,
       "grid_auto_rows": null,
       "grid_column": null,
       "grid_gap": null,
       "grid_row": null,
       "grid_template_areas": null,
       "grid_template_columns": null,
       "grid_template_rows": null,
       "height": null,
       "justify_content": null,
       "justify_items": null,
       "left": null,
       "margin": null,
       "max_height": null,
       "max_width": null,
       "min_height": null,
       "min_width": null,
       "object_fit": null,
       "object_position": null,
       "order": null,
       "overflow": null,
       "padding": null,
       "right": null,
       "top": null,
       "visibility": null,
       "width": null
      }
     },
     "a8dd259eec6b452592da0fb7ac00865a": {
      "model_module": "@jupyter-widgets/controls",
      "model_module_version": "2.0.0",
      "model_name": "HTMLStyleModel",
      "state": {
       "_model_module": "@jupyter-widgets/controls",
       "_model_module_version": "2.0.0",
       "_model_name": "HTMLStyleModel",
       "_view_count": null,
       "_view_module": "@jupyter-widgets/base",
       "_view_module_version": "2.0.0",
       "_view_name": "StyleView",
       "background": null,
       "description_width": "",
       "font_size": null,
       "text_color": null
      }
     },
     "aff1f43db2364dbeb47422e20c88aef9": {
      "model_module": "@jupyter-widgets/controls",
      "model_module_version": "2.0.0",
      "model_name": "HBoxModel",
      "state": {
       "_dom_classes": [],
       "_model_module": "@jupyter-widgets/controls",
       "_model_module_version": "2.0.0",
       "_model_name": "HBoxModel",
       "_view_count": null,
       "_view_module": "@jupyter-widgets/controls",
       "_view_module_version": "2.0.0",
       "_view_name": "HBoxView",
       "box_style": "",
       "children": [
        "IPY_MODEL_1a511884317f43649a21348b5d197691",
        "IPY_MODEL_42f5c4f1bd5740b4bbf0c6e74ceeb3e7",
        "IPY_MODEL_0adff89eb45842a29f66541cb26ad60b"
       ],
       "layout": "IPY_MODEL_a4c29a89b5044304832ec69adc5a8e0f",
       "tabbable": null,
       "tooltip": null
      }
     },
     "db506f00354f45fe991f6bf168e35571": {
      "model_module": "@jupyter-widgets/base",
      "model_module_version": "2.0.0",
      "model_name": "LayoutModel",
      "state": {
       "_model_module": "@jupyter-widgets/base",
       "_model_module_version": "2.0.0",
       "_model_name": "LayoutModel",
       "_view_count": null,
       "_view_module": "@jupyter-widgets/base",
       "_view_module_version": "2.0.0",
       "_view_name": "LayoutView",
       "align_content": null,
       "align_items": null,
       "align_self": null,
       "border_bottom": null,
       "border_left": null,
       "border_right": null,
       "border_top": null,
       "bottom": null,
       "display": null,
       "flex": null,
       "flex_flow": null,
       "grid_area": null,
       "grid_auto_columns": null,
       "grid_auto_flow": null,
       "grid_auto_rows": null,
       "grid_column": null,
       "grid_gap": null,
       "grid_row": null,
       "grid_template_areas": null,
       "grid_template_columns": null,
       "grid_template_rows": null,
       "height": null,
       "justify_content": null,
       "justify_items": null,
       "left": null,
       "margin": null,
       "max_height": null,
       "max_width": null,
       "min_height": null,
       "min_width": null,
       "object_fit": null,
       "object_position": null,
       "order": null,
       "overflow": null,
       "padding": null,
       "right": null,
       "top": null,
       "visibility": null,
       "width": null
      }
     }
    },
    "version_major": 2,
    "version_minor": 0
   }
  }
 },
 "nbformat": 4,
 "nbformat_minor": 4
}
