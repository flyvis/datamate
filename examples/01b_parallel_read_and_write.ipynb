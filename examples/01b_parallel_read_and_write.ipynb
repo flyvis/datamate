{
 "cells": [
  {
   "cell_type": "markdown",
   "metadata": {},
   "source": [
    "## Parallel read/write operations\n",
    "\n",
    "This example requires `01a_datamate_examples.ipynb` to be run simultaneously.\n",
    "\n",
    "We monitor the `Directory` called \"NetworkDir_0000\" from `01a_datamate_examples.ipynb` to track the training progress."
   ]
  },
  {
   "cell_type": "code",
   "execution_count": null,
   "metadata": {
    "execution": {
     "iopub.execute_input": "2025-01-27T10:43:33.795874Z",
     "iopub.status.busy": "2025-01-27T10:43:33.795645Z",
     "iopub.status.idle": "2025-01-27T10:43:34.190326Z",
     "shell.execute_reply": "2025-01-27T10:43:34.190080Z"
    }
   },
   "outputs": [],
   "source": [
    "from pathlib import Path\n",
    "from time import sleep\n",
    "\n",
    "import numpy as np\n",
    "import matplotlib.pyplot as plt\n",
    "\n",
    "import datamate\n",
    "\n",
    "root_dir = Path(\".\") / \"data\"\n",
    "datamate.set_root_dir(root_dir)"
   ]
  },
  {
   "cell_type": "code",
   "execution_count": null,
   "metadata": {
    "execution": {
     "iopub.execute_input": "2025-01-27T10:43:34.191842Z",
     "iopub.status.busy": "2025-01-27T10:43:34.191713Z",
     "iopub.status.idle": "2025-01-27T10:43:34.195841Z",
     "shell.execute_reply": "2025-01-27T10:43:34.195646Z"
    }
   },
   "outputs": [],
   "source": [
    "# we instantiate a pointer to the known Directory\n",
    "network_dir = datamate.Directory(\"NetworkDir_0000\")"
   ]
  },
  {
   "cell_type": "code",
   "execution_count": null,
   "metadata": {
    "execution": {
     "iopub.execute_input": "2025-01-27T10:43:34.212506Z",
     "iopub.status.busy": "2025-01-27T10:43:34.212390Z",
     "iopub.status.idle": "2025-01-27T10:43:34.215537Z",
     "shell.execute_reply": "2025-01-27T10:43:34.215313Z"
    }
   },
   "outputs": [],
   "source": [
    "network_dir.meta"
   ]
  },
  {
   "cell_type": "code",
   "execution_count": null,
   "metadata": {
    "execution": {
     "iopub.execute_input": "2025-01-27T10:43:34.216555Z",
     "iopub.status.busy": "2025-01-27T10:43:34.216477Z",
     "iopub.status.idle": "2025-01-27T10:43:34.218670Z",
     "shell.execute_reply": "2025-01-27T10:43:34.218484Z"
    }
   },
   "outputs": [],
   "source": [
    "# we visualize the loss to monitor the training\n",
    "\n",
    "\n",
    "def watch_loss(network_dir, updates=100):\n",
    "    fig = plt.figure()\n",
    "    ax = plt.subplot()\n",
    "    ax.plot(network_dir.loss[:])\n",
    "    ax.set_xlabel(\"iteration\")\n",
    "    ax.set_ylabel(\"loss\")\n",
    "\n",
    "    def update_loss(loss):\n",
    "        iters = np.arange(0, len(loss))\n",
    "        ax.lines[0].set_data(iters, loss)\n",
    "        print(f\"Current loss: {loss[-1]:.2f}\", end=\"\\r\")\n",
    "        if loss.any():\n",
    "            ymax = np.max(loss)\n",
    "            ymin = np.min(loss)\n",
    "        ax.axis([0, iters[-1], ymin, ymax])\n",
    "\n",
    "    while network_dir.meta.status == \"running\":\n",
    "        loss = network_dir.loss[:]\n",
    "        update_loss(loss)\n",
    "        fig.canvas.draw()\n",
    "        fig.canvas.flush_events()\n",
    "        sleep(0.1)\n",
    "        updates -= 1"
   ]
  },
  {
   "cell_type": "code",
   "execution_count": null,
   "metadata": {
    "execution": {
     "iopub.execute_input": "2025-01-27T10:43:34.219621Z",
     "iopub.status.busy": "2025-01-27T10:43:34.219562Z",
     "iopub.status.idle": "2025-01-27T10:43:34.233387Z",
     "shell.execute_reply": "2025-01-27T10:43:34.233214Z"
    }
   },
   "outputs": [],
   "source": [
    "%matplotlib notebook\n",
    "watch_loss(network_dir)"
   ]
  },
  {
   "cell_type": "code",
   "execution_count": null,
   "metadata": {},
   "outputs": [],
   "source": []
  }
 ],
 "metadata": {
  "kernelspec": {
   "display_name": "Python 3 (ipykernel)",
   "language": "python",
   "name": "python3"
  },
  "language_info": {
   "codemirror_mode": {
    "name": "ipython",
    "version": 3
   },
   "file_extension": ".py",
   "mimetype": "text/x-python",
   "name": "python",
   "nbconvert_exporter": "python",
   "pygments_lexer": "ipython3",
   "version": "3.12.2"
  },
  "toc": {
   "base_numbering": 1,
   "nav_menu": {},
   "number_sections": false,
   "sideBar": true,
   "skip_h1_title": false,
   "title_cell": "Table of Contents",
   "title_sidebar": "Contents",
   "toc_cell": false,
   "toc_position": {},
   "toc_section_display": true,
   "toc_window_display": false
  },
  "varInspector": {
   "cols": {
    "lenName": 16,
    "lenType": 16,
    "lenVar": 40
   },
   "kernels_config": {
    "python": {
     "delete_cmd_postfix": "",
     "delete_cmd_prefix": "del ",
     "library": "var_list.py",
     "varRefreshCmd": "print(var_dic_list())"
    },
    "r": {
     "delete_cmd_postfix": ") ",
     "delete_cmd_prefix": "rm(",
     "library": "var_list.r",
     "varRefreshCmd": "cat(var_dic_list()) "
    }
   },
   "types_to_exclude": [
    "module",
    "function",
    "builtin_function_or_method",
    "instance",
    "_Feature"
   ],
   "window_display": false
  }
 },
 "nbformat": 4,
 "nbformat_minor": 4
}
